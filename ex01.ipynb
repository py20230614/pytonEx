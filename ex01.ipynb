{
 "cells": [
  {
   "cell_type": "code",
   "execution_count": null,
   "id": "9995bd6b",
   "metadata": {},
   "outputs": [],
   "source": [
    "count = 1\n",
    "nonc = \"*\"\n",
    "while count <= 5:\n",
    "    print(nonc)\n",
    "    nonc = nonc + \"*\"\n",
    "    count += 1\n",
    "print(\"end\")"
   ]
  },
  {
   "cell_type": "code",
   "execution_count": 2,
   "id": "b55fc86c",
   "metadata": {},
   "outputs": [
    {
     "name": "stdout",
     "output_type": "stream",
     "text": [
      "pass\n",
      "false\n",
      "pass\n",
      "pass\n",
      "false\n"
     ]
    }
   ],
   "source": [
    "scores = [60, 30, 80, 70, 50]\n",
    "for i in scores:\n",
    "    if i > 50:\n",
    "        print(\"pass\")\n",
    "    else :\n",
    "        print(\"false\")"
   ]
  },
  {
   "cell_type": "code",
   "execution_count": 3,
   "id": "884a4979",
   "metadata": {},
   "outputs": [
    {
     "data": {
      "text/plain": [
       "['홍', ' 김', '박']"
      ]
     },
     "execution_count": 3,
     "metadata": {},
     "output_type": "execute_result"
    }
   ],
   "source": [
    "\"홍, 김,박\".split(\",\")"
   ]
  }
 ],
 "metadata": {
  "kernelspec": {
   "display_name": "Python 3 (ipykernel)",
   "language": "python",
   "name": "python3"
  },
  "language_info": {
   "codemirror_mode": {
    "name": "ipython",
    "version": 3
   },
   "file_extension": ".py",
   "mimetype": "text/x-python",
   "name": "python",
   "nbconvert_exporter": "python",
   "pygments_lexer": "ipython3",
   "version": "3.10.11"
  }
 },
 "nbformat": 4,
 "nbformat_minor": 5
}
