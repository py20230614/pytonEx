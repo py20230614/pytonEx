{
 "cells": [
  {
   "cell_type": "code",
   "execution_count": null,
   "metadata": {
    "colab": {
     "base_uri": "https://localhost:8080/"
    },
    "id": "eQdV24fK6yKd",
    "outputId": "65cb65d4-8f32-4e5a-a095-19a4aa99ae7e"
   },
   "outputs": [
    {
     "name": "stdout",
     "output_type": "stream",
     "text": [
      "100\n",
      "80\n"
     ]
    }
   ],
   "source": [
    "a = 100\n",
    "b = a\n",
    "a = a- 20\n",
    "print(b)\n",
    "print(a)"
   ]
  },
  {
   "cell_type": "code",
   "execution_count": null,
   "metadata": {
    "colab": {
     "base_uri": "https://localhost:8080/"
    },
    "id": "ejEaZsR8Jgew",
    "outputId": "57d90be6-a0fb-4ac9-92f8-10f5e4003216"
   },
   "outputs": [
    {
     "name": "stdout",
     "output_type": "stream",
     "text": [
      "3\n",
      "True\n",
      "True\n"
     ]
    }
   ],
   "source": [
    "b = \"홍길동\"\n",
    "print(len(b))\n",
    "print(b.isalnum())  # 알파벳 체크 특수문자 체크\n",
    "print(b.isalpha())  # 숫자 체크\n"
   ]
  },
  {
   "cell_type": "code",
   "execution_count": null,
   "metadata": {
    "colab": {
     "base_uri": "https://localhost:8080/"
    },
    "id": "EYV3lffqKVAp",
    "outputId": "475e90b8-c554-496f-9475-c88fa88ada46"
   },
   "outputs": [
    {
     "name": "stdout",
     "output_type": "stream",
     "text": [
      "3\n",
      "3\n",
      "0\n",
      "4\n"
     ]
    }
   ],
   "source": [
    "email = \"aaa@gmail.com\"\n",
    "print(email.index(\"@\"))\n",
    "print(email.find(\"@\"))\n",
    "print(email.find(\"a\"))\n",
    "print(email.count(\"a\" or email))\n"
   ]
  },
  {
   "cell_type": "code",
   "execution_count": null,
   "metadata": {
    "colab": {
     "base_uri": "https://localhost:8080/"
    },
    "id": "pBx_EEvFOEA9",
    "outputId": "1340ad8d-b6fb-4d32-8da0-503d64e06f10"
   },
   "outputs": [
    {
     "data": {
      "text/plain": [
       "7"
      ]
     },
     "execution_count": 30,
     "metadata": {},
     "output_type": "execute_result"
    }
   ],
   "source": [
    "a = [\"a\", \"b\", \"c\"]\n",
    "b = [100, 200, 300]\n",
    "c = [0,1,2,3,4,5,6,7]\n",
    "c[-1]"
   ]
  },
  {
   "cell_type": "code",
   "execution_count": 23,
   "metadata": {
    "id": "OlUCu7pASDgB"
   },
   "outputs": [],
   "source": [
    "import random"
   ]
  },
  {
   "cell_type": "code",
   "execution_count": null,
   "metadata": {
    "id": "lg10LBupSF12"
   },
   "outputs": [],
   "source": [
    "\n",
    "\n",
    "lotto_list = []\n",
    "lotto_set = set()"
   ]
  },
  {
   "cell_type": "code",
   "execution_count": null,
   "metadata": {
    "colab": {
     "base_uri": "https://localhost:8080/"
    },
    "id": "rDWb9z4nUCBY",
    "outputId": "cd1fabe7-ce79-4447-f031-2ab59f7fdcd5"
   },
   "outputs": [
    {
     "name": "stdout",
     "output_type": "stream",
     "text": [
      "[]\n",
      "set()\n",
      "{6, 39, 7, 42, 14, 20, 30}\n"
     ]
    }
   ],
   "source": [
    "# r = random.randint(1,45)\n",
    "# lotto_list.append(r)\n",
    "# lotto_set.add(r)\n",
    "for i in range(7):\n",
    "  r = random.randint(1,45)\n",
    "  lotto_set.add(r)\n",
    "print(lotto_set)"
   ]
  },
  {
   "cell_type": "code",
   "execution_count": null,
   "metadata": {
    "colab": {
     "base_uri": "https://localhost:8080/"
    },
    "id": "RxDlwYcCgtun",
    "outputId": "71ffd940-fb4e-4ab9-d740-7c235be4702f"
   },
   "outputs": [
    {
     "name": "stdout",
     "output_type": "stream",
     "text": [
      "test: ㅂㅈ\\\n",
      "숫자를 입력해라.\n"
     ]
    }
   ],
   "source": [
    "rand = random.randint(1, 100)\n",
    "a = input(\"test: \")\n",
    "if type(a) == int:\n",
    "  if rand > int(a):\n",
    "    print(\"높여주세요\")\n",
    "  else:\n",
    "    print(\"낮추세요\")\n",
    "else:\n",
    "  print(\"숫자를 입력해라.\")\n",
    "\n"
   ]
  },
  {
   "cell_type": "code",
   "execution_count": 42,
   "metadata": {
    "colab": {
     "base_uri": "https://localhost:8080/",
     "height": 127
    },
    "id": "oILOKcq5imTi",
    "outputId": "b318661a-30b7-433b-baf8-e0bf87d39362"
   },
   "outputs": [
    {
     "name": "stdout",
     "output_type": "stream",
     "text": [
      "{0}\n",
      "{0, 4}\n",
      "{0, 4, 6}\n",
      "숫자 입력하세요: 041\n",
      "041\n"
     ]
    },
    {
     "data": {
      "application/vnd.google.colaboratory.intrinsic+json": {
       "type": "string"
      },
      "text/plain": [
       "'strike: 0, ball: 0'"
      ]
     },
     "execution_count": 42,
     "metadata": {},
     "output_type": "execute_result"
    }
   ],
   "source": [
    "ball_num =  set()\n",
    "input_ball_l =  set()\n",
    "strike = 0\n",
    "ball = 0\n",
    "while len(ball_num) < 3:\n",
    "  ball_num.add(random.randint(0,9))\n",
    "  print(ball_num)\n",
    "## for j in range(20):\n",
    "input_ball = input(\"숫자 입력하세요: \")\n",
    "listStr = list(input_ball)\n",
    "count = 0\n",
    "print(input_ball)\n",
    "for i in listStr:\n",
    "  thing_index = ball_num.index(i) if i in ball_num else -1\n",
    "  if thing_index >= 0:\n",
    "    inputIndex = listStr.index(i)\n",
    "    if thing_index == inputIndex:\n",
    "      print(\"strike\")\n",
    "    else:\n",
    "      print(\"ball\")\n",
    "\n",
    "\n",
    "#input_ball_l.append(input_ball[i])\n",
    "f'strike: {strike}, ball: {ball}'\n",
    "\n",
    "#input_ball_l\n",
    "#\n",
    "#def findNum(c):\n",
    "  # 숫자비교\n",
    "#  print(c.count(\"a\" or email))\n",
    "##\n"
   ]
  },
  {
   "cell_type": "code",
   "execution_count": 31,
   "metadata": {
    "id": "iYI26NJCTxy7"
   },
   "outputs": [],
   "source": [
    "scores = (60, 30, 80, 70, 50)\n",
    "\n"
   ]
  },
  {
   "cell_type": "code",
   "execution_count": 40,
   "metadata": {
    "colab": {
     "base_uri": "https://localhost:8080/"
    },
    "id": "6rOl9kD3VBg_",
    "outputId": "9d1898ad-2b88-43c9-fe8f-c4aeac444f04"
   },
   "outputs": [
    {
     "data": {
      "text/plain": [
       "0"
      ]
     },
     "execution_count": 40,
     "metadata": {},
     "output_type": "execute_result"
    }
   ],
   "source": [
    "thing_index = scores.index(60) if 60 in scores else -1\n",
    "thing_index\n"
   ]
  }
 ],
 "metadata": {
  "colab": {
   "provenance": [],
   "toc_visible": true
  },
  "kernelspec": {
   "display_name": "Python 3 (ipykernel)",
   "language": "python",
   "name": "python3"
  },
  "language_info": {
   "codemirror_mode": {
    "name": "ipython",
    "version": 3
   },
   "file_extension": ".py",
   "mimetype": "text/x-python",
   "name": "python",
   "nbconvert_exporter": "python",
   "pygments_lexer": "ipython3",
   "version": "3.10.11"
  }
 },
 "nbformat": 4,
 "nbformat_minor": 1
}
