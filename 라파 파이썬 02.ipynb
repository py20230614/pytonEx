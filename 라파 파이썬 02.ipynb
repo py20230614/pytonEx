{
 "cells": [
  {
   "cell_type": "code",
   "execution_count": 2,
   "id": "280c2cef",
   "metadata": {},
   "outputs": [
    {
     "name": "stdout",
     "output_type": "stream",
     "text": [
      "1\n",
      "2\n",
      "3\n",
      "4\n",
      "5\n",
      "종료\n"
     ]
    }
   ],
   "source": [
    "# while 문으로 1~5 출력\n",
    "count = 1\n",
    "while count <= 5 :\n",
    "    print(count)\n",
    "#     count = count + 1\n",
    "    count += 1 # 1 누적하기\n",
    "print(\"종료\")"
   ]
  },
  {
   "cell_type": "code",
   "execution_count": 5,
   "id": "cef6c747",
   "metadata": {},
   "outputs": [
    {
     "name": "stdout",
     "output_type": "stream",
     "text": [
      "홍\n",
      "김\n",
      "박\n",
      "종료\n"
     ]
    }
   ],
   "source": [
    "# FOR문은 제공된 자료의 갯수만큼 반복\n",
    "mynames = ['홍','김','박']\n",
    "mynames = '홍,김,박'.split(\",\")\n",
    "for n in mynames:\n",
    "    print(n)\n",
    "print('종료')    "
   ]
  },
  {
   "cell_type": "code",
   "execution_count": 4,
   "id": "cc06ddec",
   "metadata": {},
   "outputs": [
    {
     "data": {
      "text/plain": [
       "['홍', '김', '박']"
      ]
     },
     "execution_count": 4,
     "metadata": {},
     "output_type": "execute_result"
    }
   ],
   "source": [
    "\"홍,김,박\".split(\",\") #문자열->,기준으로 분해"
   ]
  },
  {
   "cell_type": "code",
   "execution_count": 8,
   "id": "67476b7e",
   "metadata": {},
   "outputs": [
    {
     "name": "stdout",
     "output_type": "stream",
     "text": [
      "1\n",
      "2\n",
      "3\n",
      "4\n",
      "5\n"
     ]
    }
   ],
   "source": [
    "# for문으로 1~5 출력\n",
    "for i in range(1, 6):    # [1,2,3,4,5]:\n",
    "    print(i)"
   ]
  },
  {
   "cell_type": "code",
   "execution_count": null,
   "id": "29540623",
   "metadata": {},
   "outputs": [],
   "source": [
    "# range(1,10) : (start,stop) 1~9\n",
    "# range( 10 ) : (stop) , start=0 , 0~9 "
   ]
  },
  {
   "cell_type": "code",
   "execution_count": 9,
   "id": "0966e8ea",
   "metadata": {},
   "outputs": [
    {
     "name": "stdout",
     "output_type": "stream",
     "text": [
      "합격\n",
      "불합격\n",
      "합격\n",
      "합격\n",
      "불합격\n",
      "종료\n"
     ]
    }
   ],
   "source": [
    "# 5명 학생의 성적 scores = [60, 30, 80, 70, 50] 가 \n",
    "# 50점보다 크면 “합격” 그렇지않으면 “불합격”을 출력\n",
    "scores = [60, 30, 80, 70, 50]\n",
    "for sc in scores:\n",
    "    if sc > 50:\n",
    "        print(\"합격\")\n",
    "    else:\n",
    "        print(\"불합격\")\n",
    "print(\"종료\")"
   ]
  },
  {
   "cell_type": "code",
   "execution_count": 12,
   "id": "01e24b5d",
   "metadata": {},
   "outputs": [
    {
     "name": "stdout",
     "output_type": "stream",
     "text": [
      "생성종료\n",
      "이번주 추천로또번호 : {38, 12, 13, 20, 21, 22}\n",
      "이번주 추천로또번호 : [12, 13, 20, 21, 22, 38]\n"
     ]
    }
   ],
   "source": [
    "#  로또번호 생성기\n",
    "import random\n",
    "my_lotto = set()#중복배제저장\n",
    "while len(my_lotto) < 6 :\n",
    "    r = random.randint(1,45)\n",
    "    my_lotto.add(r)\n",
    "print(\"생성종료\")\n",
    "print(\"이번주 추천로또번호 : %s\" % (my_lotto) )\n",
    "# 아이템 정렬은 리스트만 가능\n",
    "# 리스트로 변환 후 sort()실행\n",
    "my_lotto = list(my_lotto)\n",
    "my_lotto.sort() # 내부 아이템 정렬, 반환안함\n",
    "print(\"이번주 추천로또번호 : %s\" % (my_lotto) )"
   ]
  },
  {
   "cell_type": "code",
   "execution_count": 1,
   "id": "b2021472",
   "metadata": {},
   "outputs": [
    {
     "name": "stdout",
     "output_type": "stream",
     "text": [
      "1~100까지의 합은 5050\n"
     ]
    }
   ],
   "source": [
    "# range를 이용하여 1~100까지 합을 출력\n",
    "total = 0\n",
    "for i in range(1,101):\n",
    "    total += i\n",
    "print(\"1~100까지의 합은 %s\" % (total))"
   ]
  },
  {
   "cell_type": "code",
   "execution_count": 3,
   "id": "e142a083",
   "metadata": {},
   "outputs": [
    {
     "name": "stdout",
     "output_type": "stream",
     "text": [
      "2 * 1 = 2\n",
      "2 * 2 = 4\n",
      "2 * 3 = 6\n",
      "2 * 4 = 8\n",
      "2 * 5 = 10\n",
      "2 * 6 = 12\n",
      "2 * 7 = 14\n",
      "2 * 8 = 16\n",
      "2 * 9 = 18\n",
      "3 * 1 = 3\n",
      "3 * 2 = 6\n",
      "3 * 3 = 9\n",
      "3 * 4 = 12\n",
      "3 * 5 = 15\n",
      "3 * 6 = 18\n",
      "3 * 7 = 21\n",
      "3 * 8 = 24\n",
      "3 * 9 = 27\n",
      "4 * 1 = 4\n",
      "4 * 2 = 8\n",
      "4 * 3 = 12\n",
      "4 * 4 = 16\n",
      "4 * 5 = 20\n",
      "4 * 6 = 24\n",
      "4 * 7 = 28\n",
      "4 * 8 = 32\n",
      "4 * 9 = 36\n",
      "5 * 1 = 5\n",
      "5 * 2 = 10\n",
      "5 * 3 = 15\n",
      "5 * 4 = 20\n",
      "5 * 5 = 25\n",
      "5 * 6 = 30\n",
      "5 * 7 = 35\n",
      "5 * 8 = 40\n",
      "5 * 9 = 45\n",
      "6 * 1 = 6\n",
      "6 * 2 = 12\n",
      "6 * 3 = 18\n",
      "6 * 4 = 24\n",
      "6 * 5 = 30\n",
      "6 * 6 = 36\n",
      "6 * 7 = 42\n",
      "6 * 8 = 48\n",
      "6 * 9 = 54\n",
      "7 * 1 = 7\n",
      "7 * 2 = 14\n",
      "7 * 3 = 21\n",
      "7 * 4 = 28\n",
      "7 * 5 = 35\n",
      "7 * 6 = 42\n",
      "7 * 7 = 49\n",
      "7 * 8 = 56\n",
      "7 * 9 = 63\n",
      "8 * 1 = 8\n",
      "8 * 2 = 16\n",
      "8 * 3 = 24\n",
      "8 * 4 = 32\n",
      "8 * 5 = 40\n",
      "8 * 6 = 48\n",
      "8 * 7 = 56\n",
      "8 * 8 = 64\n",
      "8 * 9 = 72\n",
      "9 * 1 = 9\n",
      "9 * 2 = 18\n",
      "9 * 3 = 27\n",
      "9 * 4 = 36\n",
      "9 * 5 = 45\n",
      "9 * 6 = 54\n",
      "9 * 7 = 63\n",
      "9 * 8 = 72\n",
      "9 * 9 = 81\n"
     ]
    }
   ],
   "source": [
    "# 3단 구구단\n",
    "dan = 3\n",
    "for dan in range(2,10):\n",
    "    for i in range(1,10):\n",
    "        print( \"%s * %s = %s\" %(dan, i, dan*i) )"
   ]
  },
  {
   "cell_type": "code",
   "execution_count": 8,
   "id": "57ed8d39",
   "metadata": {},
   "outputs": [
    {
     "name": "stdout",
     "output_type": "stream",
     "text": [
      "2 * 1 = 2\n",
      "2 * 2 = 4\n",
      "2 * 3 = 6\n",
      "2 * 4 = 8\n",
      "2 * 5 = 10\n",
      "2 * 6 = 12\n",
      "2 * 7 = 14\n",
      "2 * 8 = 16\n",
      "2 * 9 = 18\n",
      "3 * 1 = 3\n",
      "3 * 2 = 6\n",
      "3 * 3 = 9\n",
      "3 * 4 = 12\n",
      "3 * 5 = 15\n",
      "3 * 6 = 18\n",
      "3 * 7 = 21\n",
      "3 * 8 = 24\n",
      "3 * 9 = 27\n",
      "4 * 1 = 4\n",
      "4 * 2 = 8\n",
      "4 * 3 = 12\n",
      "4 * 4 = 16\n",
      "4 * 5 = 20\n",
      "4 * 6 = 24\n",
      "4 * 7 = 28\n",
      "4 * 8 = 32\n",
      "4 * 9 = 36\n",
      "5 * 1 = 5\n",
      "5 * 2 = 10\n",
      "5 * 3 = 15\n",
      "5 * 4 = 20\n",
      "5 * 5 = 25\n",
      "5 * 6 = 30\n",
      "5 * 7 = 35\n",
      "5 * 8 = 40\n",
      "5 * 9 = 45\n",
      "6 * 1 = 6\n",
      "6 * 2 = 12\n",
      "6 * 3 = 18\n",
      "6 * 4 = 24\n",
      "6 * 5 = 30\n",
      "6 * 6 = 36\n",
      "6 * 7 = 42\n",
      "6 * 8 = 48\n",
      "6 * 9 = 54\n",
      "7 * 1 = 7\n",
      "7 * 2 = 14\n",
      "7 * 3 = 21\n",
      "7 * 4 = 28\n",
      "7 * 5 = 35\n",
      "7 * 6 = 42\n",
      "7 * 7 = 49\n",
      "7 * 8 = 56\n",
      "7 * 9 = 63\n",
      "8 * 1 = 8\n",
      "8 * 2 = 16\n",
      "8 * 3 = 24\n",
      "8 * 4 = 32\n",
      "8 * 5 = 40\n",
      "8 * 6 = 48\n",
      "8 * 7 = 56\n",
      "8 * 8 = 64\n",
      "8 * 9 = 72\n",
      "9 * 1 = 9\n",
      "9 * 2 = 18\n",
      "9 * 3 = 27\n",
      "9 * 4 = 36\n",
      "9 * 5 = 45\n",
      "9 * 6 = 54\n",
      "9 * 7 = 63\n",
      "9 * 8 = 72\n",
      "9 * 9 = 81\n"
     ]
    }
   ],
   "source": [
    "# 구구단출력을 함수로 정의(생성)\n",
    "def gugudan():\n",
    "    for dan in range(2,10):\n",
    "        for i in range(1,10):\n",
    "            print( \"%s * %s = %s\" %(dan, i, dan*i) )\n",
    "    \n",
    "gugudan() # 함수 사용    "
   ]
  },
  {
   "cell_type": "code",
   "execution_count": 14,
   "id": "7b727de6",
   "metadata": {},
   "outputs": [
    {
     "name": "stdout",
     "output_type": "stream",
     "text": [
      "2\n",
      "보\n"
     ]
    }
   ],
   "source": [
    "# 컴퓨터와 가위바위보\n",
    "import random\n",
    "# 0: 가위 1: 바위 2:보\n",
    "r = random.randint(0,2)\n",
    "\n",
    "print( r ) # 0,1,2 -> 가위,바위,보 출력, if 안쓰고\n",
    "gbbs = ['가위','바위','보']\n",
    "print( gbbs[r])"
   ]
  },
  {
   "cell_type": "code",
   "execution_count": 15,
   "id": "0a692db0",
   "metadata": {},
   "outputs": [
    {
     "name": "stdout",
     "output_type": "stream",
     "text": [
      "5\n"
     ]
    }
   ],
   "source": [
    "# 가장 보편적인 함수 형태\n",
    "#더하기\n",
    "def my_plus(n1, n2):\n",
    "    c = n1+n2\n",
    "    return c\n",
    "\n",
    "ans = my_plus(2,3)\n",
    "print(ans)"
   ]
  },
  {
   "cell_type": "code",
   "execution_count": 16,
   "id": "8170eb02",
   "metadata": {},
   "outputs": [
    {
     "name": "stdout",
     "output_type": "stream",
     "text": [
      "[11, 14, 25, 26, 28, 30]\n"
     ]
    }
   ],
   "source": [
    "# 입력값이 없는 형태\n",
    "# 로또번호 생성\n",
    "def  make_lotto():\n",
    "    import random\n",
    "    nums = set()#중복배제\n",
    "    while len(nums)<6:\n",
    "        nums.add( random.randint(1,45) )\n",
    "    return list(nums)\n",
    "\n",
    "my_lotto = make_lotto()\n",
    "print(my_lotto)"
   ]
  },
  {
   "cell_type": "code",
   "execution_count": 17,
   "id": "6dd8c42b",
   "metadata": {},
   "outputs": [
    {
     "name": "stdout",
     "output_type": "stream",
     "text": [
      "3 * 1 * 3\n",
      "3 * 2 * 6\n",
      "3 * 3 * 9\n",
      "3 * 4 * 12\n",
      "3 * 5 * 15\n",
      "3 * 6 * 18\n",
      "3 * 7 * 21\n",
      "3 * 8 * 24\n",
      "3 * 9 * 27\n"
     ]
    }
   ],
   "source": [
    "# 보고싶은 단을 입력하고 해당단의 구구단을 출력\n",
    "def print_gugudan(dan):\n",
    "    for i in range(1,10):\n",
    "        print(\"%s * %s * %s\" % (dan, i, dan*i))\n",
    "\n",
    "print_gugudan( 3 )#3단 구구단 출력"
   ]
  },
  {
   "cell_type": "code",
   "execution_count": 23,
   "id": "9a5ed63e",
   "metadata": {},
   "outputs": [
    {
     "ename": "TypeError",
     "evalue": "'int' object is not callable",
     "output_type": "error",
     "traceback": [
      "\u001b[1;31m---------------------------------------------------------------------------\u001b[0m",
      "\u001b[1;31mTypeError\u001b[0m                                 Traceback (most recent call last)",
      "Cell \u001b[1;32mIn[23], line 7\u001b[0m\n\u001b[0;32m      5\u001b[0m b \u001b[38;5;241m=\u001b[39m \u001b[38;5;241m100\u001b[39m\n\u001b[0;32m      6\u001b[0m aa \u001b[38;5;241m=\u001b[39m \u001b[38;5;241m200\u001b[39m\n\u001b[1;32m----> 7\u001b[0m \u001b[43maa\u001b[49m\u001b[43m(\u001b[49m\u001b[43m)\u001b[49m\n",
      "\u001b[1;31mTypeError\u001b[0m: 'int' object is not callable"
     ]
    }
   ],
   "source": [
    "def aa():\n",
    "    print(\"OK\")\n",
    "    \n",
    "#함수를 정의하면 함수이름으로 변수가 만들어진다.\n",
    "b = 100\n",
    "aa = 200\n",
    "aa()"
   ]
  },
  {
   "cell_type": "code",
   "execution_count": 1,
   "id": "f421a8ac",
   "metadata": {},
   "outputs": [
    {
     "name": "stdout",
     "output_type": "stream",
     "text": [
      "5 * 1 * 5\n",
      "5 * 2 * 10\n",
      "5 * 3 * 15\n",
      "5 * 4 * 20\n",
      "5 * 5 * 25\n",
      "5 * 6 * 30\n",
      "5 * 7 * 35\n",
      "5 * 8 * 40\n",
      "5 * 9 * 45\n"
     ]
    }
   ],
   "source": [
    "import hello\n",
    "hello.print_gugudan(5)"
   ]
  },
  {
   "cell_type": "code",
   "execution_count": 2,
   "id": "82abc235",
   "metadata": {},
   "outputs": [
    {
     "name": "stdout",
     "output_type": "stream",
     "text": [
      "3 * 1 * 3\n",
      "3 * 2 * 6\n",
      "3 * 3 * 9\n",
      "3 * 4 * 12\n",
      "3 * 5 * 15\n",
      "3 * 6 * 18\n",
      "3 * 7 * 21\n",
      "3 * 8 * 24\n",
      "3 * 9 * 27\n"
     ]
    }
   ],
   "source": [
    "import hello as h\n",
    "h.print_gugudan(3)"
   ]
  },
  {
   "cell_type": "code",
   "execution_count": 3,
   "id": "23e64278",
   "metadata": {},
   "outputs": [
    {
     "name": "stdout",
     "output_type": "stream",
     "text": [
      "2 * 1 * 2\n",
      "2 * 2 * 4\n",
      "2 * 3 * 6\n",
      "2 * 4 * 8\n",
      "2 * 5 * 10\n",
      "2 * 6 * 12\n",
      "2 * 7 * 14\n",
      "2 * 8 * 16\n",
      "2 * 9 * 18\n"
     ]
    }
   ],
   "source": [
    "from hello import print_gugudan\n",
    "print_gugudan(2)"
   ]
  },
  {
   "cell_type": "code",
   "execution_count": 4,
   "id": "8de92e37",
   "metadata": {},
   "outputs": [
    {
     "name": "stdout",
     "output_type": "stream",
     "text": [
      "2 * 1 * 2\n",
      "2 * 2 * 4\n",
      "2 * 3 * 6\n",
      "2 * 4 * 8\n",
      "2 * 5 * 10\n",
      "2 * 6 * 12\n",
      "2 * 7 * 14\n",
      "2 * 8 * 16\n",
      "2 * 9 * 18\n"
     ]
    }
   ],
   "source": [
    "from hello import print_gugudan as ggd\n",
    "ggd(2)"
   ]
  }
 ],
 "metadata": {
  "kernelspec": {
   "display_name": "Python 3 (ipykernel)",
   "language": "python",
   "name": "python3"
  },
  "language_info": {
   "codemirror_mode": {
    "name": "ipython",
    "version": 3
   },
   "file_extension": ".py",
   "mimetype": "text/x-python",
   "name": "python",
   "nbconvert_exporter": "python",
   "pygments_lexer": "ipython3",
   "version": "3.10.11"
  }
 },
 "nbformat": 4,
 "nbformat_minor": 5
}
