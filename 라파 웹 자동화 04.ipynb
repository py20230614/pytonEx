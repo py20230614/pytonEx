{
 "cells": [
  {
   "cell_type": "code",
   "execution_count": 3,
   "id": "6be60492",
   "metadata": {},
   "outputs": [],
   "source": [
    "import requests\n",
    "url = \"https://news.naver.com\"\n",
    "\n",
    "res = requests.get(url)\n",
    "# print(res.text) #웹페이지 문서 출력\n",
    "from bs4 import BeautifulSoup\n",
    "soup = BeautifulSoup(res.text, \"html.parser\")"
   ]
  },
  {
   "cell_type": "code",
   "execution_count": 5,
   "id": "ce3f9d98",
   "metadata": {},
   "outputs": [
    {
     "name": "stdout",
     "output_type": "stream",
     "text": [
      "371\n"
     ]
    }
   ],
   "source": [
    "# 모든 <p>를 추출\n",
    "find_p = soup.select(\"p\")\n",
    "print(len(find_p))"
   ]
  },
  {
   "cell_type": "code",
   "execution_count": 9,
   "id": "bcb570c2",
   "metadata": {},
   "outputs": [
    {
     "name": "stdout",
     "output_type": "stream",
     "text": [
      "18\n",
      ">>  `마약 투약` 돈스파이크 2심 징역 2년…법정구속\n",
      ">>  대법 “통신서비스 회선 개통만으로 청약철회권 제한은 부당”\n",
      ">>  ‘마약’ 돈스파이크 2심은 징역 2년…법정구속\n",
      ">>  '마약 투약' 돈스파이크 2심 징역 2년…법정구속\n",
      ">>  '마약 투약' 돈스파이크 2심 징역 2년…법정구속\n",
      ">>  '마약 투약·소지' 돈스파이크, 항소심서 징역 2년 법정구속\n",
      ">>  '마약 투약' 작곡가 돈스파이크 2심 징역 2년…법정 구속\n",
      ">>  '마약 혐의' 돈스파이크 1심 집유→2심 징역 2년…법정구속\n",
      ">>  '마약 투약' 돈스파이크 2심 징역 2년…법정구속\n",
      ">>  '마약 투약' 돈스파이크 2심 징역 2년…법정구속\n",
      ">>  대법, ‘계약해지조건 부당’ 소비자 vs SKT·KT 분쟁 파기환송\n",
      ">>  '마약 투약' 돈스파이크 2심 징역 2년…법정구속\n",
      ">>  '필로폰 투약 혐의' 돈스파이크 항소심서 징역 2년…법정 구속\n",
      ">>  '마약 투약' 돈스파이크 2심 징역 2년…법정구속\n",
      ">>  ‘필로폰 투약’ 돈스파이크, 항소심서 징역 2년 실형\n",
      ">>  '마약 투약' 돈스파이크 2심 징역 2년…법정구속\n",
      ">>  이복현 “연말까지 불법리딩방 특별 단속”\n",
      ">>  김기현 \"총선 300일 앞…공천에 '사심 개입' 철저 배제\"\n"
     ]
    }
   ],
   "source": [
    "# <div class=\"cjs_t\">인 태그 추출\n",
    "# 언론사별 메인 기사제목\n",
    "# [ <div class-\"cjs_t\">...</div>,<div class-\"cjs_t\">...</div>,      ]\n",
    "# find_p = soup.select(\"div.cjs_t\") # 리스트반환. for사용\n",
    "# 속보제목은 h4.cn_title\n",
    "find_p = soup.select(\"h4.cn_title\") # 리스트반환. for사용\n",
    "print(len(find_p))\n",
    "for div in find_p: #get_text()는 태그내 글자를 추출\n",
    "    print( \">> \", div.get_text() )"
   ]
  },
  {
   "cell_type": "code",
   "execution_count": 10,
   "id": "69df0da3",
   "metadata": {},
   "outputs": [
    {
     "name": "stdout",
     "output_type": "stream",
     "text": [
      "<p>의 갯수 :  371\n",
      "div > p 의 갯수 :  368\n"
     ]
    }
   ],
   "source": [
    "find_p = soup.select(\"p\")\n",
    "print(\"<p>의 갯수 : \",len(find_p))\n",
    "find_p = soup.select(\"div > p\")\n",
    "print(\"div > p 의 갯수 : \" , len(find_p))"
   ]
  },
  {
   "cell_type": "markdown",
   "id": "e69e9686",
   "metadata": {},
   "source": [
    "# 셀레니움"
   ]
  },
  {
   "cell_type": "code",
   "execution_count": 12,
   "id": "31f5b9e4",
   "metadata": {},
   "outputs": [],
   "source": [
    "from selenium import webdriver\n",
    "import time\n",
    "driver = webdriver.Chrome()\n",
    "url=\"https://www.naver.com\"\n",
    "driver.get(url)"
   ]
  },
  {
   "cell_type": "code",
   "execution_count": 13,
   "id": "1d5d84bd",
   "metadata": {},
   "outputs": [
    {
     "name": "stdout",
     "output_type": "stream",
     "text": [
      "<selenium.webdriver.remote.webelement.WebElement (session=\"569c1ad7e092120076e90aceab2146fa\", element=\"19897E0C355BFE98DABD43B5C149E707_element_142\")>\n"
     ]
    }
   ],
   "source": [
    "weather = driver.find_element(\n",
    "    \"css selector\",\".DailyBoardView-module__weather_temperature___pOAGy\")\n",
    "print(weather)"
   ]
  },
  {
   "cell_type": "code",
   "execution_count": 14,
   "id": "7094279c",
   "metadata": {},
   "outputs": [
    {
     "data": {
      "text/plain": [
       "'24.4°\\n맑음'"
      ]
     },
     "execution_count": 14,
     "metadata": {},
     "output_type": "execute_result"
    }
   ],
   "source": [
    "weather.text"
   ]
  },
  {
   "cell_type": "code",
   "execution_count": 15,
   "id": "463b0650",
   "metadata": {},
   "outputs": [
    {
     "name": "stdout",
     "output_type": "stream",
     "text": [
      "<selenium.webdriver.remote.webelement.WebElement (session=\"569c1ad7e092120076e90aceab2146fa\", element=\"19897E0C355BFE98DABD43B5C149E707_element_7\")>\n"
     ]
    }
   ],
   "source": [
    "search_box = driver.find_element(\"id\",\"query\")\n",
    "print(search_box)"
   ]
  },
  {
   "cell_type": "code",
   "execution_count": null,
   "id": "1a1ced54",
   "metadata": {},
   "outputs": [],
   "source": []
  },
  {
   "cell_type": "code",
   "execution_count": 16,
   "id": "6f2daf68",
   "metadata": {},
   "outputs": [],
   "source": [
    "search_box.send_keys(\"서울 날씨\")"
   ]
  },
  {
   "cell_type": "code",
   "execution_count": 17,
   "id": "7232c12b",
   "metadata": {
    "collapsed": true
   },
   "outputs": [
    {
     "name": "stdout",
     "output_type": "stream",
     "text": [
      "<selenium.webdriver.remote.webelement.WebElement (session=\"569c1ad7e092120076e90aceab2146fa\", element=\"19897E0C355BFE98DABD43B5C149E707_element_2\")>\n"
     ]
    }
   ],
   "source": [
    "search_btn = driver.find_element(\"id\",\"search-btn\")\n",
    "print(search_btn)"
   ]
  },
  {
   "cell_type": "code",
   "execution_count": 18,
   "id": "0c777d90",
   "metadata": {},
   "outputs": [],
   "source": [
    "search_btn.click()"
   ]
  },
  {
   "cell_type": "code",
   "execution_count": 24,
   "id": "7047c0ef",
   "metadata": {},
   "outputs": [],
   "source": [
    "# 검색결과페이지내 검색어 입력부분에 \n",
    "# \"오늘 날씨\" 입력하는 코드를 작성하세요\n",
    "search_box = driver.find_element(\"id\",\"nx_query\")\n",
    "search_box.clear()\n",
    "search_box.send_keys(\"오늘 날씨\")\n",
    "search_btn = driver.find_element(\"css selector\",\".bt_search\")\n",
    "search_btn.click()"
   ]
  },
  {
   "cell_type": "code",
   "execution_count": 25,
   "id": "eecbd6f1",
   "metadata": {},
   "outputs": [],
   "source": [
    "# 검색결과페이지내 검색어 입력부분에 \n",
    "# \"내일 날씨\" 입력하는 코드를 작성하세요\n",
    "search_box = driver.find_element(\"id\",\"nx_query\")\n",
    "search_box.clear()\n",
    "search_box.send_keys(\"내일 날씨\")\n",
    "# 검색어 입력부에 엔터키 입력하여 검색하기\n",
    "from selenium.webdriver.common.keys import Keys\n",
    "search_box.send_keys(Keys.ENTER)"
   ]
  },
  {
   "cell_type": "markdown",
   "id": "4760de2d",
   "metadata": {},
   "source": [
    "# KBO 팀별순위"
   ]
  },
  {
   "cell_type": "code",
   "execution_count": 29,
   "id": "a914a2c4",
   "metadata": {},
   "outputs": [],
   "source": [
    "from selenium import webdriver\n",
    "import time\n",
    "driver = webdriver.Chrome()\n",
    "url=\"https://www.koreabaseball.com/Default.aspx?vote=true\"\n",
    "driver.get(url)"
   ]
  },
  {
   "cell_type": "code",
   "execution_count": 30,
   "id": "d86e011b",
   "metadata": {},
   "outputs": [
    {
     "name": "stdout",
     "output_type": "stream",
     "text": [
      "<selenium.webdriver.remote.webelement.WebElement (session=\"4077486dfdfdc933dc71cbd8260e4a8d\", element=\"4668AB25475D3D255003AC267363C585_element_28\")>\n"
     ]
    }
   ],
   "source": [
    "# team_rank = driver.find_element(\"id\",\"tblTeamRank\")\n",
    "team_rank = driver.find_element(\"css selector\",\"#tblTeamRank\")\n",
    "print(team_rank)"
   ]
  },
  {
   "cell_type": "code",
   "execution_count": 31,
   "id": "20e52a6c",
   "metadata": {},
   "outputs": [
    {
     "name": "stdout",
     "output_type": "stream",
     "text": [
      "순위 팀명 경기 승 패 무 승률 게임차\n",
      "1 SSG 59 36 22 1 0.621 -\n",
      "2 LG 61 36 23 2 0.610 0.5\n",
      "3 NC 57 32 25 0 0.561 3.5\n",
      "4 롯데 56 31 25 0 0.554 4\n",
      "5 두산 57 29 27 1 0.518 6\n",
      "6 KIA 55 25 30 0 0.455 9.5\n",
      "7 키움 62 27 34 1 0.443 10.5\n",
      "8 삼성 58 25 33 0 0.431 11\n",
      "9 KT 58 23 33 2 0.411 12\n",
      "10 한화 59 22 34 3 0.393 13\n"
     ]
    }
   ],
   "source": [
    "print(team_rank.text)"
   ]
  },
  {
   "cell_type": "markdown",
   "id": "bc4f5713",
   "metadata": {},
   "source": [
    "# 네이버 자동 로그인"
   ]
  },
  {
   "cell_type": "code",
   "execution_count": 61,
   "id": "d2e5ec06",
   "metadata": {},
   "outputs": [],
   "source": [
    "from selenium import webdriver\n",
    "import time\n",
    "driver = webdriver.Chrome()\n",
    "url=\"https://www.naver.com\"\n",
    "driver.get(url)\n",
    "time.sleep(3)\n",
    "login_btn = driver.find_element(\"css selector\",\".MyView-module__link_login___HpHMW\")\n",
    "login_btn.click()"
   ]
  },
  {
   "cell_type": "code",
   "execution_count": 44,
   "id": "0c7a1737",
   "metadata": {},
   "outputs": [],
   "source": []
  },
  {
   "cell_type": "code",
   "execution_count": 45,
   "id": "a239fe9f",
   "metadata": {},
   "outputs": [],
   "source": [
    "naver_id = \"\"\n",
    "naver_pwd = \"\""
   ]
  },
  {
   "cell_type": "code",
   "execution_count": 48,
   "id": "e2d0fd14",
   "metadata": {},
   "outputs": [],
   "source": [
    "# 네이버는 send_keys()를 통한 입력시 블록됨\n",
    "# 클립보드를 통한 붙여넣기 하면  넘어감\n",
    "id_input = driver.find_element(\"css selector\",\"#id\")\n",
    "id_input.clear()\n",
    "id_input.send_keys(naver_id)\n",
    "pw_input = driver.find_element(\"css selector\",\"#pw\")\n",
    "pw_input.send_keys(naver_pwd)\n",
    "login_btn = driver.find_element(\"id\",\"log.login\")\n",
    "login_btn.click()"
   ]
  },
  {
   "cell_type": "code",
   "execution_count": 62,
   "id": "6e536ea9",
   "metadata": {},
   "outputs": [],
   "source": [
    "# 클립보드를 통한 로그인 \n",
    "import pyperclip\n",
    "import time\n",
    "id_input = driver.find_element(\"css selector\",\"#id\")\n",
    "id_input.clear()\n",
    "id_input.click()\n",
    "pyperclip.copy(naver_id)\n",
    "id_input.send_keys(Keys.CONTROL,\"v\")\n",
    "time.sleep(1)\n",
    "\n",
    "pw_input = driver.find_element(\"css selector\",\"#pw\")\n",
    "pyperclip.copy(naver_pwd)\n",
    "pw_input.clear()\n",
    "pw_input.click()\n",
    "pw_input.send_keys(Keys.CONTROL,\"v\")\n",
    "time.sleep(1)\n",
    "\n",
    "login_btn = driver.find_element(\"id\",\"log.login\").click()\n"
   ]
  },
  {
   "cell_type": "markdown",
   "id": "390c4e48",
   "metadata": {},
   "source": [
    "# G마켓"
   ]
  },
  {
   "cell_type": "code",
   "execution_count": 64,
   "id": "d57c4fea",
   "metadata": {},
   "outputs": [],
   "source": [
    "from selenium import webdriver\n",
    "from selenium.webdriver.common.keys import Keys\n",
    "import time\n",
    "\n",
    "driver = webdriver.Chrome()\n",
    "email = 'gmarket아이디'\n",
    "password = 'gmarket비밀번호'\n",
    "\n",
    "# G마켓 접속\n",
    "url = \"https://www.gmarket.co.kr/\"\n",
    "driver.get(url)\n",
    "time.sleep(3)\n",
    "\n",
    "# 로그인 버튼 클릭\n",
    "# driver.find_element('xpath', '//*[@id=\"desktop_layout-header\"]/div/div/div[2]/div[3]/ul/li[1]/a').click()\n",
    "# driver.find_element('css selector', '#desktop_layout-header > div > div > div.box__navigation > div.box__usermenu > ul > li:nth-child(1) > a').click()\n",
    "driver.find_element('css selector', 'a.link__usermenu').click()\n",
    "time.sleep(3)\n",
    "\n",
    "# 아이디 입력\n",
    "# id_box = driver.find_element('xpath', '//*[@id=\"typeMemberInputId\"]')\n",
    "id_box = driver.find_element('css selector', '#typeMemberInputId')\n",
    "id_box.clear()\n",
    "id_box.send_keys(email)\n",
    "\n",
    "# 비밀번호 입력\n",
    "# pw_box = driver.find_element('xpath', '//*[@id=\"typeMemberInputPassword\"]')\n",
    "pw_box = driver.find_element('css selector', '#typeMemberInputPassword')\n",
    "pw_box.clear()\n",
    "pw_box.send_keys(password)\n",
    "pw_box.send_keys(Keys.ENTER) # 엔터 키"
   ]
  },
  {
   "cell_type": "markdown",
   "id": "a660f34f",
   "metadata": {},
   "source": [
    "# 네이버 환율 가져오기\n",
    "### pip install pandas  lxml"
   ]
  },
  {
   "cell_type": "code",
   "execution_count": 2,
   "id": "74fef31e",
   "metadata": {
    "scrolled": true
   },
   "outputs": [
    {
     "name": "stdout",
     "output_type": "stream",
     "text": [
      "table갯수: 1\n"
     ]
    },
    {
     "data": {
      "text/html": [
       "<div>\n",
       "<style scoped>\n",
       "    .dataframe tbody tr th:only-of-type {\n",
       "        vertical-align: middle;\n",
       "    }\n",
       "\n",
       "    .dataframe tbody tr th {\n",
       "        vertical-align: top;\n",
       "    }\n",
       "\n",
       "    .dataframe thead th {\n",
       "        text-align: right;\n",
       "    }\n",
       "</style>\n",
       "<table border=\"1\" class=\"dataframe\">\n",
       "  <thead>\n",
       "    <tr style=\"text-align: right;\">\n",
       "      <th></th>\n",
       "      <th>통화명</th>\n",
       "      <th>매매기준율</th>\n",
       "      <th>전일대비</th>\n",
       "      <th>등락률</th>\n",
       "    </tr>\n",
       "  </thead>\n",
       "  <tbody>\n",
       "    <tr>\n",
       "      <th>0</th>\n",
       "      <td>미국 USD</td>\n",
       "      <td>1278.80</td>\n",
       "      <td>전일대비상승3.80</td>\n",
       "      <td>+0.30%</td>\n",
       "    </tr>\n",
       "    <tr>\n",
       "      <th>1</th>\n",
       "      <td>일본 JPY 100</td>\n",
       "      <td>905.57</td>\n",
       "      <td>전일대비하락9.49</td>\n",
       "      <td>-1.04%</td>\n",
       "    </tr>\n",
       "    <tr>\n",
       "      <th>2</th>\n",
       "      <td>유럽연합 EUR</td>\n",
       "      <td>1383.47</td>\n",
       "      <td>전일대비하락0.22</td>\n",
       "      <td>-0.02%</td>\n",
       "    </tr>\n",
       "    <tr>\n",
       "      <th>3</th>\n",
       "      <td>중국 CNY</td>\n",
       "      <td>178.51</td>\n",
       "      <td>전일대비상승0.27</td>\n",
       "      <td>+0.15%</td>\n",
       "    </tr>\n",
       "    <tr>\n",
       "      <th>4</th>\n",
       "      <td>영국 GBP</td>\n",
       "      <td>1617.94</td>\n",
       "      <td>전일대비하락0.93</td>\n",
       "      <td>-0.06%</td>\n",
       "    </tr>\n",
       "    <tr>\n",
       "      <th>5</th>\n",
       "      <td>호주 AUD</td>\n",
       "      <td>872.27</td>\n",
       "      <td>전일대비상승0.87</td>\n",
       "      <td>+0.10%</td>\n",
       "    </tr>\n",
       "    <tr>\n",
       "      <th>6</th>\n",
       "      <td>캐나다 CAD</td>\n",
       "      <td>959.56</td>\n",
       "      <td>전일대비하락0.39</td>\n",
       "      <td>-0.04%</td>\n",
       "    </tr>\n",
       "    <tr>\n",
       "      <th>7</th>\n",
       "      <td>뉴질랜드 NZD</td>\n",
       "      <td>791.51</td>\n",
       "      <td>전일대비하락2.82</td>\n",
       "      <td>-0.36%</td>\n",
       "    </tr>\n",
       "  </tbody>\n",
       "</table>\n",
       "</div>"
      ],
      "text/plain": [
       "          통화명    매매기준율        전일대비     등락률\n",
       "0      미국 USD  1278.80  전일대비상승3.80  +0.30%\n",
       "1  일본 JPY 100   905.57  전일대비하락9.49  -1.04%\n",
       "2    유럽연합 EUR  1383.47  전일대비하락0.22  -0.02%\n",
       "3      중국 CNY   178.51  전일대비상승0.27  +0.15%\n",
       "4      영국 GBP  1617.94  전일대비하락0.93  -0.06%\n",
       "5      호주 AUD   872.27  전일대비상승0.87  +0.10%\n",
       "6     캐나다 CAD   959.56  전일대비하락0.39  -0.04%\n",
       "7    뉴질랜드 NZD   791.51  전일대비하락2.82  -0.36%"
      ]
     },
     "execution_count": 2,
     "metadata": {},
     "output_type": "execute_result"
    }
   ],
   "source": [
    "import requests\n",
    "url = \"https://search.naver.com/search.naver?where=nexearch&sm=top_hty&fbm=0&ie=utf8&query=%ED%99%98%EC%9C%A8\"\n",
    "import pandas as pd\n",
    "# url에서 <table>만 추출\n",
    "curr = pd.read_html(url)\n",
    "print(\"table갯수:\",len(curr))\n",
    "curr[0]"
   ]
  },
  {
   "cell_type": "markdown",
   "id": "e0e76f16",
   "metadata": {},
   "source": [
    "# 네이버 증권 메인"
   ]
  },
  {
   "cell_type": "code",
   "execution_count": 6,
   "id": "459de5b0",
   "metadata": {},
   "outputs": [
    {
     "name": "stdout",
     "output_type": "stream",
     "text": [
      "table갯수: 12\n"
     ]
    }
   ],
   "source": [
    "import requests\n",
    "url = \"https://finance.naver.com/\"\n",
    "import pandas as pd\n",
    "finance = pd.read_html(url, encoding=\"euc-kr\")\n",
    "print(\"table갯수:\",len(finance))"
   ]
  },
  {
   "cell_type": "code",
   "execution_count": 7,
   "id": "2695a8e0",
   "metadata": {},
   "outputs": [
    {
     "data": {
      "text/html": [
       "<div>\n",
       "<style scoped>\n",
       "    .dataframe tbody tr th:only-of-type {\n",
       "        vertical-align: middle;\n",
       "    }\n",
       "\n",
       "    .dataframe tbody tr th {\n",
       "        vertical-align: top;\n",
       "    }\n",
       "\n",
       "    .dataframe thead th {\n",
       "        text-align: right;\n",
       "    }\n",
       "</style>\n",
       "<table border=\"1\" class=\"dataframe\">\n",
       "  <thead>\n",
       "    <tr style=\"text-align: right;\">\n",
       "      <th></th>\n",
       "      <th>종목명</th>\n",
       "      <th>현재가</th>\n",
       "      <th>전일대비</th>\n",
       "      <th>등락률</th>\n",
       "    </tr>\n",
       "  </thead>\n",
       "  <tbody>\n",
       "    <tr>\n",
       "      <th>0</th>\n",
       "      <td>KODEX 200선물인버스2X</td>\n",
       "      <td>2480</td>\n",
       "      <td>상승 20</td>\n",
       "      <td>+0.81%</td>\n",
       "    </tr>\n",
       "    <tr>\n",
       "      <th>1</th>\n",
       "      <td>KODEX 코스닥150선물인버스</td>\n",
       "      <td>3955</td>\n",
       "      <td>하락 25</td>\n",
       "      <td>-0.63%</td>\n",
       "    </tr>\n",
       "    <tr>\n",
       "      <th>2</th>\n",
       "      <td>대한광통신</td>\n",
       "      <td>2595</td>\n",
       "      <td>상승 515</td>\n",
       "      <td>+24.76%</td>\n",
       "    </tr>\n",
       "    <tr>\n",
       "      <th>3</th>\n",
       "      <td>조일알미늄</td>\n",
       "      <td>3180</td>\n",
       "      <td>상승 220</td>\n",
       "      <td>+7.43%</td>\n",
       "    </tr>\n",
       "    <tr>\n",
       "      <th>4</th>\n",
       "      <td>크리스탈신소재</td>\n",
       "      <td>4215</td>\n",
       "      <td>상승 40</td>\n",
       "      <td>+0.96%</td>\n",
       "    </tr>\n",
       "    <tr>\n",
       "      <th>5</th>\n",
       "      <td>DB</td>\n",
       "      <td>2325</td>\n",
       "      <td>상승 85</td>\n",
       "      <td>+3.79%</td>\n",
       "    </tr>\n",
       "    <tr>\n",
       "      <th>6</th>\n",
       "      <td>큐라티스</td>\n",
       "      <td>5850</td>\n",
       "      <td>상승 1,350</td>\n",
       "      <td>+30.00%</td>\n",
       "    </tr>\n",
       "    <tr>\n",
       "      <th>7</th>\n",
       "      <td>KODEX 코스닥150레버리지</td>\n",
       "      <td>11270</td>\n",
       "      <td>상승 120</td>\n",
       "      <td>+1.08%</td>\n",
       "    </tr>\n",
       "    <tr>\n",
       "      <th>8</th>\n",
       "      <td>태성</td>\n",
       "      <td>2475</td>\n",
       "      <td>상승 315</td>\n",
       "      <td>+14.58%</td>\n",
       "    </tr>\n",
       "    <tr>\n",
       "      <th>9</th>\n",
       "      <td>하이딥</td>\n",
       "      <td>2560</td>\n",
       "      <td>상승 280</td>\n",
       "      <td>+12.28%</td>\n",
       "    </tr>\n",
       "    <tr>\n",
       "      <th>10</th>\n",
       "      <td>신송홀딩스</td>\n",
       "      <td>14550</td>\n",
       "      <td>상승 50</td>\n",
       "      <td>+0.34%</td>\n",
       "    </tr>\n",
       "    <tr>\n",
       "      <th>11</th>\n",
       "      <td>골드퍼시픽</td>\n",
       "      <td>471</td>\n",
       "      <td>하락 30</td>\n",
       "      <td>-5.99%</td>\n",
       "    </tr>\n",
       "    <tr>\n",
       "      <th>12</th>\n",
       "      <td>나무기술</td>\n",
       "      <td>2725</td>\n",
       "      <td>상승 15</td>\n",
       "      <td>+0.55%</td>\n",
       "    </tr>\n",
       "    <tr>\n",
       "      <th>13</th>\n",
       "      <td>삼부토건</td>\n",
       "      <td>2650</td>\n",
       "      <td>하락 110</td>\n",
       "      <td>-3.99%</td>\n",
       "    </tr>\n",
       "    <tr>\n",
       "      <th>14</th>\n",
       "      <td>이브이첨단소재</td>\n",
       "      <td>8810</td>\n",
       "      <td>하락 110</td>\n",
       "      <td>-1.23%</td>\n",
       "    </tr>\n",
       "  </tbody>\n",
       "</table>\n",
       "</div>"
      ],
      "text/plain": [
       "                  종목명    현재가      전일대비      등락률\n",
       "0    KODEX 200선물인버스2X   2480     상승 20   +0.81%\n",
       "1   KODEX 코스닥150선물인버스   3955     하락 25   -0.63%\n",
       "2               대한광통신   2595    상승 515  +24.76%\n",
       "3               조일알미늄   3180    상승 220   +7.43%\n",
       "4             크리스탈신소재   4215     상승 40   +0.96%\n",
       "5                  DB   2325     상승 85   +3.79%\n",
       "6                큐라티스   5850  상승 1,350  +30.00%\n",
       "7    KODEX 코스닥150레버리지  11270    상승 120   +1.08%\n",
       "8                  태성   2475    상승 315  +14.58%\n",
       "9                 하이딥   2560    상승 280  +12.28%\n",
       "10              신송홀딩스  14550     상승 50   +0.34%\n",
       "11              골드퍼시픽    471     하락 30   -5.99%\n",
       "12               나무기술   2725     상승 15   +0.55%\n",
       "13               삼부토건   2650    하락 110   -3.99%\n",
       "14            이브이첨단소재   8810    하락 110   -1.23%"
      ]
     },
     "execution_count": 7,
     "metadata": {},
     "output_type": "execute_result"
    }
   ],
   "source": [
    "finance[0]"
   ]
  },
  {
   "cell_type": "code",
   "execution_count": 11,
   "id": "c34c649f",
   "metadata": {},
   "outputs": [],
   "source": [
    "finance[0].to_excel(\"finance.xlsx\", index=False)"
   ]
  },
  {
   "cell_type": "code",
   "execution_count": null,
   "id": "afad0c9b",
   "metadata": {},
   "outputs": [],
   "source": []
  }
 ],
 "metadata": {
  "kernelspec": {
   "display_name": "Python 3 (ipykernel)",
   "language": "python",
   "name": "python3"
  },
  "language_info": {
   "codemirror_mode": {
    "name": "ipython",
    "version": 3
   },
   "file_extension": ".py",
   "mimetype": "text/x-python",
   "name": "python",
   "nbconvert_exporter": "python",
   "pygments_lexer": "ipython3",
   "version": "3.10.11"
  }
 },
 "nbformat": 4,
 "nbformat_minor": 5
}
