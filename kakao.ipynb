{
 "cells": [
  {
   "cell_type": "code",
   "execution_count": 1,
   "id": "d875e0d6",
   "metadata": {},
   "outputs": [
    {
     "ename": "IndexError",
     "evalue": "list index out of range",
     "output_type": "error",
     "traceback": [
      "\u001b[1;31m---------------------------------------------------------------------------\u001b[0m",
      "\u001b[1;31mIndexError\u001b[0m                                Traceback (most recent call last)",
      "Cell \u001b[1;32mIn[1], line 11\u001b[0m\n\u001b[0;32m      8\u001b[0m friends \u001b[38;5;241m=\u001b[39m [\u001b[38;5;124m\"\u001b[39m\u001b[38;5;124m인프런\u001b[39m\u001b[38;5;124m\"\u001b[39m,\u001b[38;5;124m\"\u001b[39m\u001b[38;5;124m아시아나항공\u001b[39m\u001b[38;5;124m\"\u001b[39m]\n\u001b[0;32m      9\u001b[0m \u001b[38;5;28;01mfor\u001b[39;00m friend_name \u001b[38;5;129;01min\u001b[39;00m friends :\n\u001b[0;32m     10\u001b[0m     \u001b[38;5;66;03m# 카카오톡 윈도우 활성화\u001b[39;00m\n\u001b[1;32m---> 11\u001b[0m     win \u001b[38;5;241m=\u001b[39m \u001b[43mpyautogui\u001b[49m\u001b[38;5;241;43m.\u001b[39;49m\u001b[43mgetWindowsWithTitle\u001b[49m\u001b[43m(\u001b[49m\u001b[38;5;124;43m\"\u001b[39;49m\u001b[38;5;124;43m카카오톡\u001b[39;49m\u001b[38;5;124;43m\"\u001b[39;49m\u001b[43m)\u001b[49m\u001b[43m[\u001b[49m\u001b[38;5;241;43m0\u001b[39;49m\u001b[43m]\u001b[49m\n\u001b[0;32m     12\u001b[0m     app \u001b[38;5;241m=\u001b[39m pywinauto\u001b[38;5;241m.\u001b[39mapplication\u001b[38;5;241m.\u001b[39mApplication()\n\u001b[0;32m     13\u001b[0m     app\u001b[38;5;241m.\u001b[39mconnect(handle\u001b[38;5;241m=\u001b[39mwin\u001b[38;5;241m.\u001b[39m_hWnd)\u001b[38;5;241m.\u001b[39mtop_window()\u001b[38;5;241m.\u001b[39mset_focus()\n",
      "\u001b[1;31mIndexError\u001b[0m: list index out of range"
     ]
    }
   ],
   "source": [
    "# 연습문제\n",
    "#  위의 문제를 반복문을 이용하여 여러 친구들에게 메시지를 보내세요.\n",
    "import time\n",
    "import pyautogui\n",
    "import pywinauto\n",
    "import pyperclip\n",
    "# 친구목록\n",
    "friends = [\"인프런\",\"아시아나항공\"]\n",
    "for friend_name in friends :\n",
    "    # 카카오톡 윈도우 활성화\n",
    "    win = pyautogui.getWindowsWithTitle(\"카카오톡\")[0]\n",
    "    app = pywinauto.application.Application()\n",
    "    app.connect(handle=win._hWnd).top_window().set_focus()\n",
    "    win.activate()\n",
    "    time.sleep(1)\n",
    "    #친구검색버튼\n",
    "    pyautogui.hotkey(\"ctrl\",\"f\")\n",
    "    time.sleep(1)\n",
    "    #이전 검색이름 삭제\n",
    "    pyautogui.press(\"esc\")\n",
    "    time.sleep(1)\n",
    "    pyautogui.hotkey(\"ctrl\",\"f\")\n",
    "    time.sleep(1)\n",
    "    #친구이름입력\n",
    "    pyperclip.copy(friend_name)\n",
    "    pyautogui.hotkey(\"ctrl\",\"v\")\n",
    "    time.sleep(1)\n",
    "    #채팅창 열기\n",
    "    pyautogui.press(\"enter\")\n",
    "    time.sleep(1)\n",
    "    #메시지입력\n",
    "    msg = \"안녕~\"\n",
    "    pyperclip.copy(msg)\n",
    "    pyautogui.hotkey(\"ctrl\",\"v\")\n",
    "    time.sleep(1)\n",
    "    #메시지 전송\n",
    "    pyautogui.press(\"enter\")\n",
    "    time.sleep(1)\n",
    "    #채팅창닫기\n",
    "    pyautogui.press(\"esc\")\n",
    "    time.sleep(1)"
   ]
  }
 ],
 "metadata": {
  "kernelspec": {
   "display_name": "Python 3 (ipykernel)",
   "language": "python",
   "name": "python3"
  },
  "language_info": {
   "codemirror_mode": {
    "name": "ipython",
    "version": 3
   },
   "file_extension": ".py",
   "mimetype": "text/x-python",
   "name": "python",
   "nbconvert_exporter": "python",
   "pygments_lexer": "ipython3",
   "version": "3.10.11"
  }
 },
 "nbformat": 4,
 "nbformat_minor": 5
}
