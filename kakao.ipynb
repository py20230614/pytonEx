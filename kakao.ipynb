{
 "cells": [
  {
   "cell_type": "code",
   "execution_count": null,
   "id": "2580319e",
   "metadata": {},
   "outputs": [],
   "source": [
    "# 연습문제\n",
    "#  위의 문제를 반복문을 이용하여 여러 친구들에게 메시지를 보내세요.\n",
    "import time\n",
    "import pyautogui\n",
    "import pywinauto\n",
    "import pyperclip\n",
    "# 친구목록\n",
    "friends = [\"인프런\",\"아시아나항공\"]\n",
    "for friend_name in friends :\n",
    "    # 카카오톡 윈도우 활성화\n",
    "    win = pyautogui.getWindowsWithTitle(\"카카오톡\")[0]\n",
    "    app = pywinauto.application.Application()\n",
    "    app.connect(handle=win._hWnd).top_window().set_focus()\n",
    "    win.activate()\n",
    "    time.sleep(1)\n",
    "    #친구검색버튼\n",
    "    pyautogui.hotkey(\"ctrl\",\"f\")\n",
    "    time.sleep(1)\n",
    "    #이전 검색이름 삭제\n",
    "    pyautogui.press(\"esc\")\n",
    "    time.sleep(1)\n",
    "    pyautogui.hotkey(\"ctrl\",\"f\")\n",
    "    time.sleep(1)\n",
    "    #친구이름입력\n",
    "    pyperclip.copy(friend_name)\n",
    "    pyautogui.hotkey(\"ctrl\",\"v\")\n",
    "    time.sleep(1)\n",
    "    #채팅창 열기\n",
    "    pyautogui.press(\"enter\")\n",
    "    time.sleep(1)\n",
    "    #메시지입력\n",
    "    msg = \"안녕~\"\n",
    "    pyperclip.copy(msg)\n",
    "    pyautogui.hotkey(\"ctrl\",\"v\")\n",
    "    time.sleep(1)\n",
    "    #메시지 전송\n",
    "    pyautogui.press(\"enter\")\n",
    "    time.sleep(1)\n",
    "    #채팅창닫기\n",
    "    pyautogui.press(\"esc\")\n",
    "    time.sleep(1)"
   ]
  }
 ],
 "metadata": {
  "kernelspec": {
   "display_name": "Python 3 (ipykernel)",
   "language": "python",
   "name": "python3"
  },
  "language_info": {
   "codemirror_mode": {
    "name": "ipython",
    "version": 3
   },
   "file_extension": ".py",
   "mimetype": "text/x-python",
   "name": "python",
   "nbconvert_exporter": "python",
   "pygments_lexer": "ipython3",
   "version": "3.10.11"
  }
 },
 "nbformat": 4,
 "nbformat_minor": 5
}
