{
 "cells": [
  {
   "cell_type": "code",
   "execution_count": 6,
   "id": "c2db1db9",
   "metadata": {},
   "outputs": [
    {
     "data": {
      "text/plain": [
       "pandas.core.frame.DataFrame"
      ]
     },
     "execution_count": 6,
     "metadata": {},
     "output_type": "execute_result"
    }
   ],
   "source": [
    "import pandas as pd\n",
    "\n",
    "df1 = pd.read_excel(\"./data/sample.xlsx\")\n",
    "type(df1)"
   ]
  },
  {
   "cell_type": "code",
   "execution_count": 7,
   "id": "d19bc3f1",
   "metadata": {},
   "outputs": [
    {
     "data": {
      "text/plain": [
       "pandas.core.frame.DataFrame"
      ]
     },
     "execution_count": 7,
     "metadata": {},
     "output_type": "execute_result"
    }
   ],
   "source": [
    "df2 = pd.read_excel(\"./data/sample.xlsx\", sheet_name=\"score\")\n",
    "type(df2)"
   ]
  },
  {
   "cell_type": "code",
   "execution_count": 9,
   "id": "80e046a1",
   "metadata": {},
   "outputs": [
    {
     "data": {
      "text/plain": [
       "dict"
      ]
     },
     "execution_count": 9,
     "metadata": {},
     "output_type": "execute_result"
    }
   ],
   "source": [
    "df3 = pd.read_excel(\"./data/sample.xlsx\", sheet_name=None)\n",
    "type(df3) # DF이 여러개 묶인 형태"
   ]
  },
  {
   "cell_type": "code",
   "execution_count": 13,
   "id": "7a5bc893",
   "metadata": {},
   "outputs": [
    {
     "data": {
      "text/plain": [
       "dict_keys(['info', 'score'])"
      ]
     },
     "execution_count": 13,
     "metadata": {},
     "output_type": "execute_result"
    }
   ],
   "source": [
    "df3.keys() # 시트목록"
   ]
  },
  {
   "cell_type": "code",
   "execution_count": 14,
   "id": "b294fff3",
   "metadata": {},
   "outputs": [
    {
     "data": {
      "text/html": [
       "<div>\n",
       "<style scoped>\n",
       "    .dataframe tbody tr th:only-of-type {\n",
       "        vertical-align: middle;\n",
       "    }\n",
       "\n",
       "    .dataframe tbody tr th {\n",
       "        vertical-align: top;\n",
       "    }\n",
       "\n",
       "    .dataframe thead th {\n",
       "        text-align: right;\n",
       "    }\n",
       "</style>\n",
       "<table border=\"1\" class=\"dataframe\">\n",
       "  <thead>\n",
       "    <tr style=\"text-align: right;\">\n",
       "      <th></th>\n",
       "      <th>이름</th>\n",
       "      <th>점수</th>\n",
       "    </tr>\n",
       "  </thead>\n",
       "  <tbody>\n",
       "    <tr>\n",
       "      <th>0</th>\n",
       "      <td>Kim</td>\n",
       "      <td>100</td>\n",
       "    </tr>\n",
       "    <tr>\n",
       "      <th>1</th>\n",
       "      <td>Park</td>\n",
       "      <td>90</td>\n",
       "    </tr>\n",
       "    <tr>\n",
       "      <th>2</th>\n",
       "      <td>Lee</td>\n",
       "      <td>80</td>\n",
       "    </tr>\n",
       "  </tbody>\n",
       "</table>\n",
       "</div>"
      ],
      "text/plain": [
       "     이름   점수\n",
       "0   Kim  100\n",
       "1  Park   90\n",
       "2   Lee   80"
      ]
     },
     "execution_count": 14,
     "metadata": {},
     "output_type": "execute_result"
    }
   ],
   "source": [
    "df3[\"score\"]"
   ]
  },
  {
   "cell_type": "code",
   "execution_count": 16,
   "id": "d36c08ce",
   "metadata": {},
   "outputs": [],
   "source": [
    "## 여러 sheet에 저장하기\n",
    "writer = pd.ExcelWriter('data/sample_수정본.xlsx')\n",
    "\n",
    "# sheet 별 저장\n",
    "df3['info'].to_excel(writer, sheet_name= '정보')\n",
    "df3['score'].to_excel(writer, sheet_name= '점수')\n",
    "\n",
    "writer.close()"
   ]
  },
  {
   "cell_type": "code",
   "execution_count": 18,
   "id": "8107a05b",
   "metadata": {},
   "outputs": [
    {
     "data": {
      "text/html": [
       "<div>\n",
       "<style scoped>\n",
       "    .dataframe tbody tr th:only-of-type {\n",
       "        vertical-align: middle;\n",
       "    }\n",
       "\n",
       "    .dataframe tbody tr th {\n",
       "        vertical-align: top;\n",
       "    }\n",
       "\n",
       "    .dataframe thead th {\n",
       "        text-align: right;\n",
       "    }\n",
       "</style>\n",
       "<table border=\"1\" class=\"dataframe\">\n",
       "  <thead>\n",
       "    <tr style=\"text-align: right;\">\n",
       "      <th></th>\n",
       "      <th>시군구</th>\n",
       "      <th>번지</th>\n",
       "      <th>본번</th>\n",
       "      <th>부번</th>\n",
       "      <th>단지명</th>\n",
       "      <th>전용면적(㎡)</th>\n",
       "      <th>계약년월</th>\n",
       "      <th>계약일</th>\n",
       "      <th>거래금액(만원)</th>\n",
       "      <th>층</th>\n",
       "      <th>건축년도</th>\n",
       "      <th>도로명</th>\n",
       "      <th>해제사유발생일</th>\n",
       "      <th>거래유형</th>\n",
       "      <th>중개사소재지</th>\n",
       "    </tr>\n",
       "  </thead>\n",
       "  <tbody>\n",
       "    <tr>\n",
       "      <th>0</th>\n",
       "      <td>서울특별시 강남구 개포동</td>\n",
       "      <td>1282</td>\n",
       "      <td>1282.0</td>\n",
       "      <td>0.0</td>\n",
       "      <td>개포래미안포레스트</td>\n",
       "      <td>59.92</td>\n",
       "      <td>202206</td>\n",
       "      <td>17</td>\n",
       "      <td>195,000</td>\n",
       "      <td>10</td>\n",
       "      <td>2020</td>\n",
       "      <td>개포로 264</td>\n",
       "      <td>NaN</td>\n",
       "      <td>중개거래</td>\n",
       "      <td>서울 강남구</td>\n",
       "    </tr>\n",
       "    <tr>\n",
       "      <th>1</th>\n",
       "      <td>서울특별시 강남구 개포동</td>\n",
       "      <td>1282</td>\n",
       "      <td>1282.0</td>\n",
       "      <td>0.0</td>\n",
       "      <td>개포래미안포레스트</td>\n",
       "      <td>84.83</td>\n",
       "      <td>202211</td>\n",
       "      <td>25</td>\n",
       "      <td>240,000</td>\n",
       "      <td>33</td>\n",
       "      <td>2020</td>\n",
       "      <td>개포로 264</td>\n",
       "      <td>NaN</td>\n",
       "      <td>중개거래</td>\n",
       "      <td>서울 강남구</td>\n",
       "    </tr>\n",
       "    <tr>\n",
       "      <th>2</th>\n",
       "      <td>서울특별시 강남구 개포동</td>\n",
       "      <td>1282</td>\n",
       "      <td>1282.0</td>\n",
       "      <td>0.0</td>\n",
       "      <td>개포래미안포레스트</td>\n",
       "      <td>84.86</td>\n",
       "      <td>202211</td>\n",
       "      <td>29</td>\n",
       "      <td>240,000</td>\n",
       "      <td>5</td>\n",
       "      <td>2020</td>\n",
       "      <td>개포로 264</td>\n",
       "      <td>NaN</td>\n",
       "      <td>중개거래</td>\n",
       "      <td>서울 강남구</td>\n",
       "    </tr>\n",
       "    <tr>\n",
       "      <th>3</th>\n",
       "      <td>서울특별시 강남구 개포동</td>\n",
       "      <td>1282</td>\n",
       "      <td>1282.0</td>\n",
       "      <td>0.0</td>\n",
       "      <td>개포래미안포레스트</td>\n",
       "      <td>59.92</td>\n",
       "      <td>202301</td>\n",
       "      <td>5</td>\n",
       "      <td>158,000</td>\n",
       "      <td>13</td>\n",
       "      <td>2020</td>\n",
       "      <td>개포로 264</td>\n",
       "      <td>NaN</td>\n",
       "      <td>중개거래</td>\n",
       "      <td>서울 강남구</td>\n",
       "    </tr>\n",
       "    <tr>\n",
       "      <th>4</th>\n",
       "      <td>서울특별시 강남구 개포동</td>\n",
       "      <td>1282</td>\n",
       "      <td>1282.0</td>\n",
       "      <td>0.0</td>\n",
       "      <td>개포래미안포레스트</td>\n",
       "      <td>59.92</td>\n",
       "      <td>202301</td>\n",
       "      <td>14</td>\n",
       "      <td>166,000</td>\n",
       "      <td>13</td>\n",
       "      <td>2020</td>\n",
       "      <td>개포로 264</td>\n",
       "      <td>NaN</td>\n",
       "      <td>중개거래</td>\n",
       "      <td>서울 강남구</td>\n",
       "    </tr>\n",
       "    <tr>\n",
       "      <th>...</th>\n",
       "      <td>...</td>\n",
       "      <td>...</td>\n",
       "      <td>...</td>\n",
       "      <td>...</td>\n",
       "      <td>...</td>\n",
       "      <td>...</td>\n",
       "      <td>...</td>\n",
       "      <td>...</td>\n",
       "      <td>...</td>\n",
       "      <td>...</td>\n",
       "      <td>...</td>\n",
       "      <td>...</td>\n",
       "      <td>...</td>\n",
       "      <td>...</td>\n",
       "      <td>...</td>\n",
       "    </tr>\n",
       "    <tr>\n",
       "      <th>18809</th>\n",
       "      <td>서울특별시 중랑구 중화동</td>\n",
       "      <td>450</td>\n",
       "      <td>450.0</td>\n",
       "      <td>0.0</td>\n",
       "      <td>한신아파트(103~109)</td>\n",
       "      <td>59.76</td>\n",
       "      <td>202304</td>\n",
       "      <td>12</td>\n",
       "      <td>59,000</td>\n",
       "      <td>25</td>\n",
       "      <td>1997</td>\n",
       "      <td>동일로 752</td>\n",
       "      <td>NaN</td>\n",
       "      <td>중개거래</td>\n",
       "      <td>서울 동대문구</td>\n",
       "    </tr>\n",
       "    <tr>\n",
       "      <th>18810</th>\n",
       "      <td>서울특별시 중랑구 중화동</td>\n",
       "      <td>450</td>\n",
       "      <td>450.0</td>\n",
       "      <td>0.0</td>\n",
       "      <td>한신아파트(103~109)</td>\n",
       "      <td>59.76</td>\n",
       "      <td>202304</td>\n",
       "      <td>15</td>\n",
       "      <td>61,500</td>\n",
       "      <td>12</td>\n",
       "      <td>1997</td>\n",
       "      <td>동일로 752</td>\n",
       "      <td>20230522.0</td>\n",
       "      <td>중개거래</td>\n",
       "      <td>서울 중랑구</td>\n",
       "    </tr>\n",
       "    <tr>\n",
       "      <th>18811</th>\n",
       "      <td>서울특별시 중랑구 중화동</td>\n",
       "      <td>450</td>\n",
       "      <td>450.0</td>\n",
       "      <td>0.0</td>\n",
       "      <td>한신아파트(103~109)</td>\n",
       "      <td>84.20</td>\n",
       "      <td>202305</td>\n",
       "      <td>3</td>\n",
       "      <td>74,500</td>\n",
       "      <td>19</td>\n",
       "      <td>1997</td>\n",
       "      <td>동일로 752</td>\n",
       "      <td>NaN</td>\n",
       "      <td>중개거래</td>\n",
       "      <td>서울 중랑구</td>\n",
       "    </tr>\n",
       "    <tr>\n",
       "      <th>18812</th>\n",
       "      <td>서울특별시 중랑구 중화동</td>\n",
       "      <td>450</td>\n",
       "      <td>450.0</td>\n",
       "      <td>0.0</td>\n",
       "      <td>한신아파트(103~109)</td>\n",
       "      <td>59.76</td>\n",
       "      <td>202305</td>\n",
       "      <td>5</td>\n",
       "      <td>61,500</td>\n",
       "      <td>13</td>\n",
       "      <td>1997</td>\n",
       "      <td>동일로 752</td>\n",
       "      <td>NaN</td>\n",
       "      <td>중개거래</td>\n",
       "      <td>서울 중랑구</td>\n",
       "    </tr>\n",
       "    <tr>\n",
       "      <th>18813</th>\n",
       "      <td>서울특별시 중랑구 중화동</td>\n",
       "      <td>450</td>\n",
       "      <td>450.0</td>\n",
       "      <td>0.0</td>\n",
       "      <td>한신아파트(103~109)</td>\n",
       "      <td>59.76</td>\n",
       "      <td>202305</td>\n",
       "      <td>29</td>\n",
       "      <td>64,000</td>\n",
       "      <td>24</td>\n",
       "      <td>1997</td>\n",
       "      <td>동일로 752</td>\n",
       "      <td>NaN</td>\n",
       "      <td>중개거래</td>\n",
       "      <td>서울 중랑구</td>\n",
       "    </tr>\n",
       "  </tbody>\n",
       "</table>\n",
       "<p>18814 rows × 15 columns</p>\n",
       "</div>"
      ],
      "text/plain": [
       "                 시군구    번지      본번   부번             단지명  전용면적(㎡)    계약년월  계약일  \\\n",
       "0      서울특별시 강남구 개포동  1282  1282.0  0.0       개포래미안포레스트    59.92  202206   17   \n",
       "1      서울특별시 강남구 개포동  1282  1282.0  0.0       개포래미안포레스트    84.83  202211   25   \n",
       "2      서울특별시 강남구 개포동  1282  1282.0  0.0       개포래미안포레스트    84.86  202211   29   \n",
       "3      서울특별시 강남구 개포동  1282  1282.0  0.0       개포래미안포레스트    59.92  202301    5   \n",
       "4      서울특별시 강남구 개포동  1282  1282.0  0.0       개포래미안포레스트    59.92  202301   14   \n",
       "...              ...   ...     ...  ...             ...      ...     ...  ...   \n",
       "18809  서울특별시 중랑구 중화동   450   450.0  0.0  한신아파트(103~109)    59.76  202304   12   \n",
       "18810  서울특별시 중랑구 중화동   450   450.0  0.0  한신아파트(103~109)    59.76  202304   15   \n",
       "18811  서울특별시 중랑구 중화동   450   450.0  0.0  한신아파트(103~109)    84.20  202305    3   \n",
       "18812  서울특별시 중랑구 중화동   450   450.0  0.0  한신아파트(103~109)    59.76  202305    5   \n",
       "18813  서울특별시 중랑구 중화동   450   450.0  0.0  한신아파트(103~109)    59.76  202305   29   \n",
       "\n",
       "      거래금액(만원)   층  건축년도      도로명     해제사유발생일  거래유형   중개사소재지  \n",
       "0      195,000  10  2020  개포로 264         NaN  중개거래   서울 강남구  \n",
       "1      240,000  33  2020  개포로 264         NaN  중개거래   서울 강남구  \n",
       "2      240,000   5  2020  개포로 264         NaN  중개거래   서울 강남구  \n",
       "3      158,000  13  2020  개포로 264         NaN  중개거래   서울 강남구  \n",
       "4      166,000  13  2020  개포로 264         NaN  중개거래   서울 강남구  \n",
       "...        ...  ..   ...      ...         ...   ...      ...  \n",
       "18809   59,000  25  1997  동일로 752         NaN  중개거래  서울 동대문구  \n",
       "18810   61,500  12  1997  동일로 752  20230522.0  중개거래   서울 중랑구  \n",
       "18811   74,500  19  1997  동일로 752         NaN  중개거래   서울 중랑구  \n",
       "18812   61,500  13  1997  동일로 752         NaN  중개거래   서울 중랑구  \n",
       "18813   64,000  24  1997  동일로 752         NaN  중개거래   서울 중랑구  \n",
       "\n",
       "[18814 rows x 15 columns]"
      ]
     },
     "execution_count": 18,
     "metadata": {},
     "output_type": "execute_result"
    }
   ],
   "source": [
    "price_df = pd.read_csv(\n",
    "    \"./아파트(매매)__실거래가_20230615163631.csv\",\n",
    "    skiprows=15,\n",
    "    encoding=\"euc-kr\")\n",
    "price_df"
   ]
  },
  {
   "cell_type": "code",
   "execution_count": 19,
   "id": "7bfc29cd",
   "metadata": {},
   "outputs": [
    {
     "data": {
      "text/plain": [
       "{'생년월일', '이름'}"
      ]
     },
     "execution_count": 19,
     "metadata": {},
     "output_type": "execute_result"
    }
   ],
   "source": [
    "from mailmerge import MailMerge\n",
    "document = MailMerge(\"data/수료증_template.docx\")\n",
    "document.get_merge_fields()"
   ]
  },
  {
   "cell_type": "code",
   "execution_count": 20,
   "id": "a5852342",
   "metadata": {},
   "outputs": [],
   "source": [
    "document.merge(이름=\"김영환\",생년월일=\"2000년 1월 1일\")\n",
    "document.write(\"data/수료증/수료증_김영환.docx\")"
   ]
  },
  {
   "cell_type": "code",
   "execution_count": null,
   "id": "270684e9",
   "metadata": {},
   "outputs": [],
   "source": []
  }
 ],
 "metadata": {
  "kernelspec": {
   "display_name": "Python 3 (ipykernel)",
   "language": "python",
   "name": "python3"
  },
  "language_info": {
   "codemirror_mode": {
    "name": "ipython",
    "version": 3
   },
   "file_extension": ".py",
   "mimetype": "text/x-python",
   "name": "python",
   "nbconvert_exporter": "python",
   "pygments_lexer": "ipython3",
   "version": "3.10.11"
  }
 },
 "nbformat": 4,
 "nbformat_minor": 5
}
