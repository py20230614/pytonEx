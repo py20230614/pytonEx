{
 "cells": [
  {
   "cell_type": "code",
   "execution_count": 52,
   "id": "41c519d3",
   "metadata": {},
   "outputs": [],
   "source": [
    "import time\n",
    "import pyautogui as pg\n",
    "import pywinauto as pw\n",
    "import pyperclip as pc\n",
    "import glob as gl\n",
    "import shutil"
   ]
  },
  {
   "cell_type": "code",
   "execution_count": 6,
   "id": "f25c2bb0",
   "metadata": {},
   "outputs": [
    {
     "data": {
      "text/plain": [
       "['edu01.ipynb',\n",
       " 'ex01.ipynb',\n",
       " 'FileAndFolder.ipynb',\n",
       " 'hello2.py',\n",
       " 'kakao.ipynb',\n",
       " 'rapa_auto.ipynb',\n",
       " '__pycache__']"
      ]
     },
     "execution_count": 6,
     "metadata": {},
     "output_type": "execute_result"
    }
   ],
   "source": [
    "gl.glob(\"*\")"
   ]
  },
  {
   "cell_type": "code",
   "execution_count": 7,
   "id": "66f8d9ef",
   "metadata": {},
   "outputs": [],
   "source": [
    "import os"
   ]
  },
  {
   "cell_type": "code",
   "execution_count": 15,
   "id": "838d7db5",
   "metadata": {},
   "outputs": [],
   "source": [
    "os.mkdir(\"exel_test/est\")"
   ]
  },
  {
   "cell_type": "code",
   "execution_count": 16,
   "id": "a7e18fd3",
   "metadata": {},
   "outputs": [],
   "source": [
    "pass_list = ['./exel_test/tmp1', './exel_test/tmp2', './exel_test/tmp3',]"
   ]
  },
  {
   "cell_type": "code",
   "execution_count": 17,
   "id": "6b22598a",
   "metadata": {},
   "outputs": [],
   "source": [
    "for path in pass_list:\n",
    "    os.mkdir(path)"
   ]
  },
  {
   "cell_type": "code",
   "execution_count": 26,
   "id": "cfd62356",
   "metadata": {},
   "outputs": [],
   "source": [
    "tempI = 0\n",
    "pathE = \"./excel_test/\"\n",
    "for i in range(10):\n",
    "    f = open(pathE+str(i)+\".txt\", \"w\")\n",
    "    f.close()"
   ]
  },
  {
   "cell_type": "code",
   "execution_count": 28,
   "id": "11b7f80a",
   "metadata": {},
   "outputs": [
    {
     "ename": "FileNotFoundError",
     "evalue": "[WinError 2] 지정된 파일을 찾을 수 없습니다: './excel_test/0.txt' -> './excel_test/0111.txt'",
     "output_type": "error",
     "traceback": [
      "\u001b[1;31m---------------------------------------------------------------------------\u001b[0m",
      "\u001b[1;31mFileNotFoundError\u001b[0m                         Traceback (most recent call last)",
      "Cell \u001b[1;32mIn[28], line 2\u001b[0m\n\u001b[0;32m      1\u001b[0m \u001b[38;5;28;01mfor\u001b[39;00m i \u001b[38;5;129;01min\u001b[39;00m \u001b[38;5;28mrange\u001b[39m(\u001b[38;5;241m10\u001b[39m):\n\u001b[1;32m----> 2\u001b[0m     \u001b[43mos\u001b[49m\u001b[38;5;241;43m.\u001b[39;49m\u001b[43mrename\u001b[49m\u001b[43m(\u001b[49m\u001b[43mpathE\u001b[49m\u001b[38;5;241;43m+\u001b[39;49m\u001b[38;5;28;43mstr\u001b[39;49m\u001b[43m(\u001b[49m\u001b[43mi\u001b[49m\u001b[43m)\u001b[49m\u001b[38;5;241;43m+\u001b[39;49m\u001b[38;5;124;43m\"\u001b[39;49m\u001b[38;5;124;43m.txt\u001b[39;49m\u001b[38;5;124;43m\"\u001b[39;49m\u001b[43m,\u001b[49m\u001b[43m \u001b[49m\u001b[43mpathE\u001b[49m\u001b[38;5;241;43m+\u001b[39;49m\u001b[38;5;28;43mstr\u001b[39;49m\u001b[43m(\u001b[49m\u001b[43mi\u001b[49m\u001b[43m)\u001b[49m\u001b[38;5;241;43m+\u001b[39;49m\u001b[38;5;124;43m\"\u001b[39;49m\u001b[38;5;124;43m111.txt\u001b[39;49m\u001b[38;5;124;43m\"\u001b[39;49m\u001b[43m)\u001b[49m\n",
      "\u001b[1;31mFileNotFoundError\u001b[0m: [WinError 2] 지정된 파일을 찾을 수 없습니다: './excel_test/0.txt' -> './excel_test/0111.txt'"
     ]
    }
   ],
   "source": [
    "for i in range(10):\n",
    "    os.rename(pathE+str(i)+\".txt\", pathE+str(i)+\"111.txt\")"
   ]
  },
  {
   "cell_type": "code",
   "execution_count": 46,
   "id": "44372b25",
   "metadata": {},
   "outputs": [
    {
     "name": "stdout",
     "output_type": "stream",
     "text": [
      "0111.txt\n",
      "1111.txt\n",
      "2111.txt\n",
      "3111.txt\n",
      "4111.txt\n",
      "5111.txt\n",
      "6111.txt\n",
      "7111.txt\n",
      "8111.txt\n",
      "9111.txt\n"
     ]
    }
   ],
   "source": [
    "# os.listdir(\"./excel_test\")\n",
    "listTxt = gl.glob(\"./excel_test/*.txt\")\n",
    "for i in listTxt:\n",
    "    splitStr = i.split(\"./excel_test\\\\\")[1]\n",
    "    os.rename()\n",
    "# for i in listTxt:\n",
    "#     os.rename(i, )"
   ]
  },
  {
   "cell_type": "code",
   "execution_count": 48,
   "id": "c6dc64df",
   "metadata": {},
   "outputs": [],
   "source": [
    "pathE = \"./excel_test/1111.txt\"\n",
    "os.rename(pathE, \"./excel_test/tmp1/1111.txt\")"
   ]
  },
  {
   "cell_type": "code",
   "execution_count": 51,
   "id": "4b03b8a9",
   "metadata": {},
   "outputs": [],
   "source": [
    "pwd = os.getcwd()"
   ]
  },
  {
   "cell_type": "code",
   "execution_count": 53,
   "id": "943a0ab7",
   "metadata": {},
   "outputs": [
    {
     "data": {
      "text/plain": [
       "'./excel_test/eee.txt'"
      ]
     },
     "execution_count": 53,
     "metadata": {},
     "output_type": "execute_result"
    }
   ],
   "source": [
    "pathOrg = \"./excel_test/\"\n",
    "pathOrgFile = \"./excel_test/1111.txt\"\n",
    "shutil.copyfile(pathOrgFile, pathOrg+\"eee.txt\")"
   ]
  },
  {
   "cell_type": "code",
   "execution_count": 58,
   "id": "ac75041f",
   "metadata": {},
   "outputs": [
    {
     "name": "stdout",
     "output_type": "stream",
     "text": [
      "['./excel_test\\\\0111.txt', './excel_test\\\\1111.txt', './excel_test\\\\2111.txt', './excel_test\\\\3111.txt', './excel_test\\\\4111.txt', './excel_test\\\\5111.txt', './excel_test\\\\6111.txt', './excel_test\\\\7111.txt', './excel_test\\\\8111.txt', './excel_test\\\\9111.txt', './excel_test\\\\eee.txt']\n"
     ]
    }
   ],
   "source": [
    "# f=open(\"Entity01.txt\", \"a+\")\n",
    "listTxt = gl.glob(\"./excel_test/*.txt\")\n",
    "print(listTxt)\n",
    "# for i in listTxt:\n",
    "#     splitStr = i.split(\"./excel_test\\\\\")[1]\n",
    "#     os.rename()\n",
    "for i in listTxt:\n",
    "    f = open(i, \"w\")\n",
    "    f.write(\"zzzzzz\")\n",
    "f.close()\n"
   ]
  },
  {
   "cell_type": "code",
   "execution_count": 60,
   "id": "1bb3b80a",
   "metadata": {},
   "outputs": [],
   "source": [
    "# 파일 이름 바꾸기\n",
    "for fname in gl.glob(\"./excel_test/*.txt\"):\n",
    "    new_name = fname.replace(\"111\", \"test\")\n",
    "    os.rename(fname, new_name)"
   ]
  },
  {
   "cell_type": "code",
   "execution_count": 66,
   "id": "e6aff283",
   "metadata": {},
   "outputs": [],
   "source": [
    "import glob\n",
    "import shutil\n",
    "\n",
    "path = 'C:/Users/USER/Documents/notebook_workspace/excel_test/'\n",
    "\n",
    "for fname in glob.glob(path + 'origin/*.txt'):\n",
    "    shutil.copy(fname, path + 'backup')\n",
    "\n"
   ]
  }
 ],
 "metadata": {
  "kernelspec": {
   "display_name": "Python 3 (ipykernel)",
   "language": "python",
   "name": "python3"
  },
  "language_info": {
   "codemirror_mode": {
    "name": "ipython",
    "version": 3
   },
   "file_extension": ".py",
   "mimetype": "text/x-python",
   "name": "python",
   "nbconvert_exporter": "python",
   "pygments_lexer": "ipython3",
   "version": "3.10.11"
  }
 },
 "nbformat": 4,
 "nbformat_minor": 5
}
