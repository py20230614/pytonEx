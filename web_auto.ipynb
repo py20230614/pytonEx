{
 "cells": [
  {
   "cell_type": "code",
   "execution_count": 6,
   "id": "abee9209",
   "metadata": {},
   "outputs": [],
   "source": [
    "import requests\n",
    "from selenium import webdriver\n",
    "from bs4 import BeautifulSoup as bs"
   ]
  },
  {
   "cell_type": "code",
   "execution_count": 5,
   "id": "da4749af",
   "metadata": {},
   "outputs": [],
   "source": [
    "driver = webdriver.Chrome()\n",
    "url = \"https://www.naver.com\"\n",
    "driver.get(url)"
   ]
  },
  {
   "cell_type": "code",
   "execution_count": 23,
   "id": "38ea1c8e",
   "metadata": {},
   "outputs": [
    {
     "data": {
      "text/plain": [
       "'현재 온도21.9°'"
      ]
     },
     "execution_count": 23,
     "metadata": {},
     "output_type": "execute_result"
    }
   ],
   "source": [
    "# url = 'https://www.naver.com'\n",
    "url = 'https://weather.naver.com/'\n",
    "res = requests.get(url)\n",
    "# print(res.status_code)\n",
    "soup = bs(res.text, 'html.parser')\n",
    "# a = soup.find(class_ = 'weather_table_wrap')\n",
    "# soup.find(class_ = 'weather_quick_area')\n",
    "# soup.select(\"#now > div > div.weather_area > div.weather_now\")\n",
    "\n",
    "# soup.select_one(\".current\").get_text()       # '\\n현재 온도21.9°\\n'\n",
    "soup.select_one(\".current\").get_text().strip()    #'현재 온도21.9°'\n",
    "\n",
    "\n",
    "\n",
    "\n"
   ]
  },
  {
   "cell_type": "code",
   "execution_count": null,
   "id": "103168fa",
   "metadata": {},
   "outputs": [],
   "source": []
  }
 ],
 "metadata": {
  "kernelspec": {
   "display_name": "Python 3 (ipykernel)",
   "language": "python",
   "name": "python3"
  },
  "language_info": {
   "codemirror_mode": {
    "name": "ipython",
    "version": 3
   },
   "file_extension": ".py",
   "mimetype": "text/x-python",
   "name": "python",
   "nbconvert_exporter": "python",
   "pygments_lexer": "ipython3",
   "version": "3.10.11"
  }
 },
 "nbformat": 4,
 "nbformat_minor": 5
}
