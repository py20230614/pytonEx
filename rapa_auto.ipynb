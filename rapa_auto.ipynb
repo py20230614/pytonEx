{
 "cells": [
  {
   "cell_type": "code",
   "execution_count": 1,
   "id": "16be7a55",
   "metadata": {},
   "outputs": [
    {
     "name": "stderr",
     "output_type": "stream",
     "text": [
      "WARNING: Skipping jedi as it is not installed.\n"
     ]
    }
   ],
   "source": []
  },
  {
   "cell_type": "code",
   "execution_count": 2,
   "id": "97e3d281",
   "metadata": {},
   "outputs": [],
   "source": [
    "import pyautogui as pg"
   ]
  },
  {
   "cell_type": "code",
   "execution_count": 11,
   "id": "0552b2c8",
   "metadata": {},
   "outputs": [],
   "source": [
    "pg.moveTo(500, 400, duration=2)"
   ]
  },
  {
   "cell_type": "code",
   "execution_count": 31,
   "id": "31fb8c93",
   "metadata": {},
   "outputs": [],
   "source": [
    "pg.moveTo(540, 310)\n",
    "# pg.click(670, 300, clicks = 2)\n",
    "# pg.doubleClick(670, 310)\n"
   ]
  },
  {
   "cell_type": "code",
   "execution_count": 34,
   "id": "bc7e028c",
   "metadata": {},
   "outputs": [],
   "source": [
    "pg.moveTo(540, 310)\n",
    "pg.dragTo(670, 310, duration = 1)"
   ]
  },
  {
   "cell_type": "code",
   "execution_count": 4,
   "id": "b31e685e",
   "metadata": {},
   "outputs": [
    {
     "data": {
      "text/plain": [
       "Point(x=638, y=612)"
      ]
     },
     "execution_count": 4,
     "metadata": {},
     "output_type": "execute_result"
    }
   ],
   "source": [
    "pg.position()"
   ]
  },
  {
   "cell_type": "code",
   "execution_count": 18,
   "id": "4d3d2e10",
   "metadata": {},
   "outputs": [
    {
     "name": "stdout",
     "output_type": "stream",
     "text": [
      "cal4+9\n"
     ]
    }
   ],
   "source": [
    "pos = {\n",
    "    \"1\" : (1630, 434),\n",
    "    \"2\" : (1720, 434),\n",
    "    \"3\" : (1788, 434),\n",
    "    \"4\" : (1640, 387),\n",
    "    \"5\" : (1720, 387),\n",
    "    \"6\" : (1788, 387),\n",
    "    \"7\" : (1630, 330),\n",
    "    \"8\" : (1720, 330),\n",
    "    \"9\" : (1790, 330),\n",
    "    \"+\" : (1879, 439),\n",
    "    \"-\" : (1879, 390),\n",
    "    \"/\" : (1879, 330),\n",
    "    \"=\" : (1879, 500)\n",
    "}\n",
    "# pg.moveTo(pos[\"a\"])\n",
    "\n",
    "inputVal = input(\"cal\")\n",
    "for i in inputVal:\n",
    "    pg.click(pos[i], duration=.2)"
   ]
  },
  {
   "cell_type": "code",
   "execution_count": 19,
   "id": "82e822de",
   "metadata": {},
   "outputs": [],
   "source": [
    "autoA = [100, 200]\n",
    "a,b = autoA\n"
   ]
  },
  {
   "cell_type": "code",
   "execution_count": 25,
   "id": "682f32c0",
   "metadata": {},
   "outputs": [],
   "source": [
    "from subprocess import Popen \n",
    "import pyautogui as pg\n",
    "import time"
   ]
  },
  {
   "cell_type": "code",
   "execution_count": 28,
   "id": "37b78766",
   "metadata": {},
   "outputs": [],
   "source": [
    "po(\"calc\")\n",
    "time.sleep(1)\n",
    "pg.write('5+10*2=', interval= .1)\n",
    "pg.press(\"f5\")"
   ]
  },
  {
   "cell_type": "code",
   "execution_count": 30,
   "id": "c78cde64",
   "metadata": {},
   "outputs": [
    {
     "name": "stdout",
     "output_type": "stream",
     "text": [
      "['\\t', '\\n', '\\r', ' ', '!', '\"', '#', '$', '%', '&', \"'\", '(', ')', '*', '+', ',', '-', '.', '/', '0', '1', '2', '3', '4', '5', '6', '7', '8', '9', ':', ';', '<', '=', '>', '?', '@', '[', '\\\\', ']', '^', '_', '`', 'a', 'b', 'c', 'd', 'e', 'f', 'g', 'h', 'i', 'j', 'k', 'l', 'm', 'n', 'o', 'p', 'q', 'r', 's', 't', 'u', 'v', 'w', 'x', 'y', 'z', '{', '|', '}', '~', 'accept', 'add', 'alt', 'altleft', 'altright', 'apps', 'backspace', 'browserback', 'browserfavorites', 'browserforward', 'browserhome', 'browserrefresh', 'browsersearch', 'browserstop', 'capslock', 'clear', 'convert', 'ctrl', 'ctrlleft', 'ctrlright', 'decimal', 'del', 'delete', 'divide', 'down', 'end', 'enter', 'esc', 'escape', 'execute', 'f1', 'f10', 'f11', 'f12', 'f13', 'f14', 'f15', 'f16', 'f17', 'f18', 'f19', 'f2', 'f20', 'f21', 'f22', 'f23', 'f24', 'f3', 'f4', 'f5', 'f6', 'f7', 'f8', 'f9', 'final', 'fn', 'hanguel', 'hangul', 'hanja', 'help', 'home', 'insert', 'junja', 'kana', 'kanji', 'launchapp1', 'launchapp2', 'launchmail', 'launchmediaselect', 'left', 'modechange', 'multiply', 'nexttrack', 'nonconvert', 'num0', 'num1', 'num2', 'num3', 'num4', 'num5', 'num6', 'num7', 'num8', 'num9', 'numlock', 'pagedown', 'pageup', 'pause', 'pgdn', 'pgup', 'playpause', 'prevtrack', 'print', 'printscreen', 'prntscrn', 'prtsc', 'prtscr', 'return', 'right', 'scrolllock', 'select', 'separator', 'shift', 'shiftleft', 'shiftright', 'sleep', 'space', 'stop', 'subtract', 'tab', 'up', 'volumedown', 'volumemute', 'volumeup', 'win', 'winleft', 'winright', 'yen', 'command', 'option', 'optionleft', 'optionright']\n"
     ]
    }
   ],
   "source": [
    "print(pg.KEY_NAMES)"
   ]
  },
  {
   "cell_type": "code",
   "execution_count": 32,
   "id": "cd2022fc",
   "metadata": {},
   "outputs": [],
   "source": [
    "import pyperclip"
   ]
  },
  {
   "cell_type": "code",
   "execution_count": 35,
   "id": "39f38562",
   "metadata": {},
   "outputs": [],
   "source": [
    "po(\"notepad\")\n",
    "time.sleep(1)\n",
    "msg = \"프로그램\"\n",
    "pyperclip.copy(msg)\n",
    "pg.hotkey(\"ctrl\", \"v\")"
   ]
  },
  {
   "cell_type": "code",
   "execution_count": 38,
   "id": "3a391755",
   "metadata": {},
   "outputs": [
    {
     "data": {
      "text/plain": [
       "[Win32Window(hWnd=65696),\n",
       " Win32Window(hWnd=262416),\n",
       " Win32Window(hWnd=198508),\n",
       " Win32Window(hWnd=1638928),\n",
       " Win32Window(hWnd=1050338),\n",
       " Win32Window(hWnd=853762),\n",
       " Win32Window(hWnd=329480),\n",
       " Win32Window(hWnd=197996),\n",
       " Win32Window(hWnd=720964),\n",
       " Win32Window(hWnd=197778),\n",
       " Win32Window(hWnd=524746),\n",
       " Win32Window(hWnd=67038),\n",
       " Win32Window(hWnd=67082),\n",
       " Win32Window(hWnd=263556),\n",
       " Win32Window(hWnd=66718),\n",
       " Win32Window(hWnd=131604),\n",
       " Win32Window(hWnd=66050),\n",
       " Win32Window(hWnd=65936),\n",
       " Win32Window(hWnd=65930),\n",
       " Win32Window(hWnd=65868),\n",
       " Win32Window(hWnd=65866),\n",
       " Win32Window(hWnd=131346)]"
      ]
     },
     "execution_count": 38,
     "metadata": {},
     "output_type": "execute_result"
    }
   ],
   "source": [
    "pg.getAllWindows()\n"
   ]
  },
  {
   "cell_type": "code",
   "execution_count": 41,
   "id": "79d2ca0d",
   "metadata": {},
   "outputs": [
    {
     "data": {
      "text/plain": [
       "['',\n",
       " 'rapa_auto - Jupyter Notebook - Chrome',\n",
       " '제목 없음 - Windows 메모장',\n",
       " '관리자: C:\\\\Windows\\\\System32\\\\cmd.exe - jupyter  notebook',\n",
       " '관리자: 명령 프롬프트',\n",
       " 'notebook_workspace',\n",
       " '다운로드',\n",
       " '',\n",
       " '',\n",
       " 'Sticky Notes',\n",
       " 'Microsoft Text Input Application',\n",
       " '',\n",
       " 'Microsoft Edge',\n",
       " '',\n",
       " '',\n",
       " '',\n",
       " '',\n",
       " 'Program Manager']"
      ]
     },
     "execution_count": 41,
     "metadata": {},
     "output_type": "execute_result"
    }
   ],
   "source": [
    "pg.getAllTitles()"
   ]
  },
  {
   "cell_type": "code",
   "execution_count": 43,
   "id": "ab7362f8",
   "metadata": {},
   "outputs": [
    {
     "name": "stdout",
     "output_type": "stream",
     "text": [
      "Collecting pywinauto\n",
      "  Downloading pywinauto-0.6.8-py2.py3-none-any.whl (362 kB)\n",
      "                                              0.0/362.9 kB ? eta -:--:--\n",
      "     ------------------------------------- 362.9/362.9 kB 11.4 MB/s eta 0:00:00\n",
      "Requirement already satisfied: six in c:\\users\\user\\appdata\\local\\programs\\python\\python310\\lib\\site-packages (from pywinauto) (1.16.0)\n",
      "Collecting comtypes (from pywinauto)\n",
      "  Downloading comtypes-1.2.0-py2.py3-none-any.whl (184 kB)\n",
      "                                              0.0/184.3 kB ? eta -:--:--\n",
      "     -------------------------------------- 184.3/184.3 kB 5.4 MB/s eta 0:00:00\n",
      "Requirement already satisfied: pywin32 in c:\\users\\user\\appdata\\local\\programs\\python\\python310\\lib\\site-packages (from pywinauto) (306)\n",
      "Installing collected packages: comtypes, pywinauto\n",
      "Successfully installed comtypes-1.2.0 pywinauto-0.6.8\n"
     ]
    }
   ],
   "source": [
    "!pip install pywinauto"
   ]
  },
  {
   "cell_type": "code",
   "execution_count": 45,
   "id": "18789d09",
   "metadata": {},
   "outputs": [],
   "source": [
    "import pywinauto as po"
   ]
  },
  {
   "cell_type": "code",
   "execution_count": 51,
   "id": "e2a92781",
   "metadata": {},
   "outputs": [],
   "source": [
    "win = pg.getWindowsWithTitle(\"제목 없음 - Windows 메모장\")[0]\n",
    "app = po.application.Application()\n",
    "app.connect(handle = win._hWnd).top_window().set_focus()\n",
    "win.activate()"
   ]
  },
  {
   "cell_type": "code",
   "execution_count": 1,
   "id": "822809ef",
   "metadata": {},
   "outputs": [],
   "source": [
    "a= 100"
   ]
  }
 ],
 "metadata": {
  "kernelspec": {
   "display_name": "Python 3 (ipykernel)",
   "language": "python",
   "name": "python3"
  },
  "language_info": {
   "codemirror_mode": {
    "name": "ipython",
    "version": 3
   },
   "file_extension": ".py",
   "mimetype": "text/x-python",
   "name": "python",
   "nbconvert_exporter": "python",
   "pygments_lexer": "ipython3",
   "version": "3.10.11"
  }
 },
 "nbformat": 4,
 "nbformat_minor": 5
}
