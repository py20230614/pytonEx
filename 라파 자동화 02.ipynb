{
 "cells": [
  {
   "cell_type": "code",
   "execution_count": null,
   "id": "1be75849",
   "metadata": {},
   "outputs": [],
   "source": [
    "!pip install pyautogui"
   ]
  },
  {
   "cell_type": "code",
   "execution_count": 2,
   "id": "1638640b",
   "metadata": {},
   "outputs": [
    {
     "data": {
      "text/plain": [
       "Size(width=1280, height=800)"
      ]
     },
     "execution_count": 2,
     "metadata": {},
     "output_type": "execute_result"
    }
   ],
   "source": [
    "import pyautogui\n",
    "pyautogui.size()"
   ]
  },
  {
   "cell_type": "code",
   "execution_count": 20,
   "id": "cfb4f5bb",
   "metadata": {},
   "outputs": [],
   "source": [
    "# pyautogui.moveTo(500,400, duration=1)\n",
    "# pyautogui.click()\n",
    "# pyautogui.click(500,400, button='right')\n",
    "pyautogui.click(500,400, clicks=2)"
   ]
  },
  {
   "cell_type": "code",
   "execution_count": 30,
   "id": "21d8da6e",
   "metadata": {},
   "outputs": [],
   "source": [
    "pyautogui.moveTo(400,510, duration=1)\n",
    "pyautogui.dragTo(600,510, duration=1)"
   ]
  },
  {
   "cell_type": "code",
   "execution_count": 40,
   "id": "11071b1e",
   "metadata": {},
   "outputs": [
    {
     "data": {
      "text/plain": [
       "Point(x=551, y=479)"
      ]
     },
     "execution_count": 40,
     "metadata": {},
     "output_type": "execute_result"
    }
   ],
   "source": [
    "pyautogui.position()"
   ]
  },
  {
   "cell_type": "code",
   "execution_count": 55,
   "id": "c812f471",
   "metadata": {},
   "outputs": [],
   "source": [
    "# 연습문제\n",
    "#- 서로 다른 3개의 좌표를 사전 자료형으로 저장하여 반복문을 이용하여 좌표를\n",
    "# 클릭하세요.\n",
    "# - (300, 200), (400, 200), (300, 300) 좌표를 순서대로 클릭\n",
    "# - 사전의 key는 자유롭게 설정\n",
    "pos = {\n",
    "    \"A\" : (300,200),\n",
    "    \"B\" : (400,200),\n",
    "    \"C\" : (300,300),\n",
    "}\n",
    "for i in \"ABC\":\n",
    "    x, y = pos[i]\n",
    "    pyautogui.click(x, y, duration=1)"
   ]
  },
  {
   "cell_type": "code",
   "execution_count": 46,
   "id": "3c56014a",
   "metadata": {
    "scrolled": true
   },
   "outputs": [
    {
     "name": "stdout",
     "output_type": "stream",
     "text": [
      "300\n",
      "400\n"
     ]
    }
   ],
   "source": [
    "aa = [300,400]\n",
    "a,b = aa\n",
    "print(a)\n",
    "print(b)"
   ]
  },
  {
   "cell_type": "code",
   "execution_count": 70,
   "id": "f33a8375",
   "metadata": {},
   "outputs": [],
   "source": [
    "# 계산기 프로그램을 실행 후 각 버튼의 좌표를 사전 자료형으로 저장한 후 계산식을\n",
    "#자동으로 클릭하는 프로그램을 작성하세요.\n",
    "#- 계산기 버튼은 0 ~ 9, + , - , x , ÷, =, C 으로 총 16개 설정\n",
    "#- 계산식은 문자열로 작성. ex) ‘3+5='\n",
    "buttons = {\n",
    "    \"0\" : (1077, 504),\n",
    "    \"1\" : (998, 448),\n",
    "    \"2\" : (1077, 454),\n",
    "    \"3\" : (1155, 454),\n",
    "    \"4\" : (998, 396),\n",
    "    \"5\" : (1077, 396),\n",
    "    \"6\" : (1155, 396),\n",
    "    \"7\" : (998, 343),\n",
    "    \"8\" : (1077, 343),\n",
    "    \"9\" : (1155, 343),\n",
    "    \"+\" : (1233, 451),\n",
    "    \"-\" : (1233, 399),\n",
    "    \"*\" : (1233, 343),\n",
    "    \"/\" : (1233, 290),\n",
    "    \"=\" : (1233, 505),\n",
    "    \"C\" : (1156, 235),\n",
    "}\n",
    "\n",
    "for i in \"C3+5=\":\n",
    "    x,y = buttons[i]\n",
    "    pyautogui.click(x,y,duration=1)"
   ]
  },
  {
   "cell_type": "code",
   "execution_count": 78,
   "id": "40b04189",
   "metadata": {},
   "outputs": [
    {
     "data": {
      "text/plain": [
       "<Popen: returncode: None args: 'mspaint'>"
      ]
     },
     "execution_count": 78,
     "metadata": {},
     "output_type": "execute_result"
    }
   ],
   "source": [
    "from subprocess import Popen\n",
    "Popen(\"mspaint\")"
   ]
  },
  {
   "cell_type": "code",
   "execution_count": 84,
   "id": "f2e773ba",
   "metadata": {},
   "outputs": [],
   "source": [
    "import pyautogui\n",
    "from subprocess import Popen\n",
    "import time\n",
    "\n",
    "Popen(\"calc\")\n",
    "time.sleep(1)\n",
    "pyautogui.write(\"5+10*2=\", interval=.2)"
   ]
  },
  {
   "cell_type": "code",
   "execution_count": 87,
   "id": "f02e5c36",
   "metadata": {},
   "outputs": [],
   "source": [
    "Popen(\"notepad\")\n",
    "time.sleep(1)\n",
    "pyautogui.write(\"Hello, RPA!!\", interval=.2)"
   ]
  },
  {
   "cell_type": "code",
   "execution_count": 88,
   "id": "11b749b7",
   "metadata": {},
   "outputs": [
    {
     "name": "stdout",
     "output_type": "stream",
     "text": [
      "['\\t', '\\n', '\\r', ' ', '!', '\"', '#', '$', '%', '&', \"'\", '(', ')', '*', '+', ',', '-', '.', '/', '0', '1', '2', '3', '4', '5', '6', '7', '8', '9', ':', ';', '<', '=', '>', '?', '@', '[', '\\\\', ']', '^', '_', '`', 'a', 'b', 'c', 'd', 'e', 'f', 'g', 'h', 'i', 'j', 'k', 'l', 'm', 'n', 'o', 'p', 'q', 'r', 's', 't', 'u', 'v', 'w', 'x', 'y', 'z', '{', '|', '}', '~', 'accept', 'add', 'alt', 'altleft', 'altright', 'apps', 'backspace', 'browserback', 'browserfavorites', 'browserforward', 'browserhome', 'browserrefresh', 'browsersearch', 'browserstop', 'capslock', 'clear', 'convert', 'ctrl', 'ctrlleft', 'ctrlright', 'decimal', 'del', 'delete', 'divide', 'down', 'end', 'enter', 'esc', 'escape', 'execute', 'f1', 'f10', 'f11', 'f12', 'f13', 'f14', 'f15', 'f16', 'f17', 'f18', 'f19', 'f2', 'f20', 'f21', 'f22', 'f23', 'f24', 'f3', 'f4', 'f5', 'f6', 'f7', 'f8', 'f9', 'final', 'fn', 'hanguel', 'hangul', 'hanja', 'help', 'home', 'insert', 'junja', 'kana', 'kanji', 'launchapp1', 'launchapp2', 'launchmail', 'launchmediaselect', 'left', 'modechange', 'multiply', 'nexttrack', 'nonconvert', 'num0', 'num1', 'num2', 'num3', 'num4', 'num5', 'num6', 'num7', 'num8', 'num9', 'numlock', 'pagedown', 'pageup', 'pause', 'pgdn', 'pgup', 'playpause', 'prevtrack', 'print', 'printscreen', 'prntscrn', 'prtsc', 'prtscr', 'return', 'right', 'scrolllock', 'select', 'separator', 'shift', 'shiftleft', 'shiftright', 'sleep', 'space', 'stop', 'subtract', 'tab', 'up', 'volumedown', 'volumemute', 'volumeup', 'win', 'winleft', 'winright', 'yen', 'command', 'option', 'optionleft', 'optionright']\n"
     ]
    }
   ],
   "source": [
    "print(pyautogui.KEY_NAMES)"
   ]
  },
  {
   "cell_type": "code",
   "execution_count": 93,
   "id": "9a063ee5",
   "metadata": {},
   "outputs": [],
   "source": [
    "pyautogui.press(\"f5\")"
   ]
  },
  {
   "cell_type": "code",
   "execution_count": 95,
   "id": "38920178",
   "metadata": {},
   "outputs": [],
   "source": [
    "Popen(\"notepad\")\n",
    "time.sleep(1)\n",
    "\n",
    "pyautogui.press('a')\n",
    "pyautogui.keyDown('shift')\n",
    "pyautogui.press('a')\n",
    "pyautogui.press('a')\n",
    "pyautogui.keyUp('shift')\n",
    "pyautogui.press('a')"
   ]
  },
  {
   "cell_type": "code",
   "execution_count": 97,
   "id": "bca01f19",
   "metadata": {},
   "outputs": [],
   "source": [
    "# 함수의 자세한 설명문을 보기\n",
    "pyautogui.press?"
   ]
  },
  {
   "cell_type": "code",
   "execution_count": 99,
   "id": "b8525b12",
   "metadata": {},
   "outputs": [],
   "source": [
    "Popen(\"notepad\")\n",
    "time.sleep(1)\n",
    "\n",
    "pyautogui.write(\"12345\", interval=.2)\n",
    "pyautogui.press([\"left\",\"left\",\"left\",], interval=.2)\n",
    "pyautogui.write(\"ABCDE\", interval=.2)"
   ]
  },
  {
   "cell_type": "code",
   "execution_count": 101,
   "id": "0ee3b03c",
   "metadata": {},
   "outputs": [],
   "source": [
    "Popen(\"notepad\")\n",
    "time.sleep(1)\n",
    "\n",
    "pyautogui.write(\"12345\", interval=.2)\n",
    "pyautogui.hotkey(\"ctrl\",\"a\")\n",
    "pyautogui.hotkey(\"ctrl\",\"c\")\n",
    "pyautogui.hotkey(\"ctrl\",\"v\")\n",
    "pyautogui.hotkey(\"ctrl\",\"v\")\n",
    "pyautogui.hotkey(\"ctrl\",\"v\")"
   ]
  },
  {
   "cell_type": "code",
   "execution_count": 106,
   "id": "98167de9",
   "metadata": {},
   "outputs": [],
   "source": [
    "Popen(\"notepad\")\n",
    "time.sleep(1)\n",
    "\n",
    "# pyautogui.write(\"program \")\n",
    "pyautogui.press(\"hanguel\")\n",
    "pyautogui.write(\"program 실행중\", interval=.2)"
   ]
  },
  {
   "cell_type": "code",
   "execution_count": 107,
   "id": "92af81d2",
   "metadata": {},
   "outputs": [],
   "source": [
    "import pyperclip\n",
    "Popen(\"notepad\")\n",
    "time.sleep(1)\n",
    "\n",
    "msg=\"program 실행중\"\n",
    "pyperclip.copy(msg)\n",
    "pyautogui.hotkey(\"ctrl\",'v')"
   ]
  },
  {
   "cell_type": "code",
   "execution_count": 136,
   "id": "23d819ff",
   "metadata": {},
   "outputs": [
    {
     "data": {
      "text/plain": [
       "['',\n",
       " '',\n",
       " 'Microsoft Edge',\n",
       " '라파 자동화 02 - Jupyter Notebook 및 1개의 추가 페이지 \\u200e- Microsoft Edge',\n",
       " '파이썬을 활용한 업무 자동화_교안.pdf - Foxit PDF Reader',\n",
       " 'Lab01_시스템제어자동화 - Jupyter Notebook - Chrome',\n",
       " '선택 관리자: 명령 프롬프트',\n",
       " '고양이 대봉이가 약을 먹는 과정.jpgif : 클리앙 - Chrome',\n",
       " '3-1. Excel - OpenPyxl 소개 - 사장님 몰래 하는 파이썬 업무자동화(부제 : 들키면 일 많아짐) - Chrome',\n",
       " '계산기',\n",
       " '계산기',\n",
       " '제목 없음 - 그림판',\n",
       " 'Microsoft Edge',\n",
       " 'Microsoft Edge',\n",
       " 'Microsoft Edge',\n",
       " 'Microsoft Edge',\n",
       " '다운로드',\n",
       " '관리자: C:\\\\Windows\\\\System32\\\\cmd.exe - jupyter  notebook',\n",
       " 'Microsoft Edge',\n",
       " '파이썬_자동화',\n",
       " 'Microsoft Text Input Application',\n",
       " 'Microsoft Edge',\n",
       " 'Microsoft Edge',\n",
       " '설정',\n",
       " '네이버 MYBOX - Chrome',\n",
       " '내장 함수 — Python 3.11.4 문서 - Chrome',\n",
       " '카카오톡',\n",
       " '새 탭 - Chrome',\n",
       " '설정',\n",
       " '',\n",
       " '',\n",
       " '',\n",
       " '',\n",
       " '',\n",
       " '',\n",
       " '',\n",
       " '',\n",
       " '',\n",
       " '',\n",
       " 'Program Manager']"
      ]
     },
     "execution_count": 136,
     "metadata": {},
     "output_type": "execute_result"
    }
   ],
   "source": [
    "pyautogui.getAllTitles()"
   ]
  },
  {
   "cell_type": "code",
   "execution_count": 114,
   "id": "704277f2",
   "metadata": {},
   "outputs": [
    {
     "data": {
      "text/plain": [
       "[Win32Window(hWnd=1379516), Win32Window(hWnd=4063718)]"
      ]
     },
     "execution_count": 114,
     "metadata": {},
     "output_type": "execute_result"
    }
   ],
   "source": [
    "pyautogui.getWindowsWithTitle(\"계산기\")"
   ]
  },
  {
   "cell_type": "code",
   "execution_count": 125,
   "id": "3d551647",
   "metadata": {},
   "outputs": [],
   "source": [
    "import pywinauto\n",
    "\n",
    "win = pyautogui.getWindowsWithTitle(\"제목 없음 - Windows 메모장\")[0]\n",
    "app = pywinauto.application.Application()\n",
    "app.connect(handle=win._hWnd).top_window().set_focus()\n",
    "win.activate()"
   ]
  },
  {
   "cell_type": "code",
   "execution_count": 126,
   "id": "d8b207af",
   "metadata": {},
   "outputs": [],
   "source": [
    "win.maximize()"
   ]
  },
  {
   "cell_type": "code",
   "execution_count": 129,
   "id": "347c0445",
   "metadata": {},
   "outputs": [],
   "source": [
    "win.restore()"
   ]
  },
  {
   "cell_type": "code",
   "execution_count": 128,
   "id": "d0f11f4d",
   "metadata": {},
   "outputs": [],
   "source": [
    "win.minimize()"
   ]
  },
  {
   "cell_type": "code",
   "execution_count": 130,
   "id": "4a074d88",
   "metadata": {},
   "outputs": [],
   "source": [
    "win.close()"
   ]
  },
  {
   "cell_type": "code",
   "execution_count": 146,
   "id": "dc001aa6",
   "metadata": {},
   "outputs": [
    {
     "name": "stderr",
     "output_type": "stream",
     "text": [
      "C:\\Users\\USER\\AppData\\Local\\Programs\\Python\\Python310\\lib\\site-packages\\pywinauto\\application.py:1085: UserWarning: 32-bit application should be automated using 32-bit Python (you use 64-bit Python)\n",
      "  warnings.warn(\n"
     ]
    }
   ],
   "source": [
    "# 연습문제\n",
    "# - PC카카오톡으로 친구에게 메시지를 자동으로 보내세요.\n",
    "# 1. PC카카오톡을 실행하고 로그인하세요. (직접 로그인)\n",
    "# 2. 친구 검색 버튼을 단축키(ctrl + f)로 누르세요.\n",
    "# 3. 원하는 친구 이름을 검색하고 친구에게 메시지를 보내세요.\n",
    "import time\n",
    "import pyautogui\n",
    "import pywinauto\n",
    "import pyperclip\n",
    "# 카카오톡 윈도우 활성화\n",
    "win = pyautogui.getWindowsWithTitle(\"카카오톡\")[0]\n",
    "app = pywinauto.application.Application()\n",
    "app.connect(handle=win._hWnd).top_window().set_focus()\n",
    "win.activate()\n",
    "time.sleep(1)\n",
    "#친구검색버튼\n",
    "pyautogui.hotkey(\"ctrl\",\"f\")\n",
    "time.sleep(1)\n",
    "#친구이름입력\n",
    "friend_name = \"김영환\"\n",
    "pyperclip.copy(friend_name)\n",
    "pyautogui.hotkey(\"ctrl\",\"v\")\n",
    "time.sleep(1)\n",
    "#채팅창 열기\n",
    "pyautogui.press(\"enter\")\n",
    "time.sleep(1)\n",
    "#메시지입력\n",
    "msg = \"안녕~\"\n",
    "pyperclip.copy(msg)\n",
    "pyautogui.hotkey(\"ctrl\",\"v\")\n",
    "time.sleep(1)\n",
    "#메시지 전송\n",
    "# pyautogui.press(\"enter\")\n",
    "# time.sleep(1)\n"
   ]
  },
  {
   "cell_type": "code",
   "execution_count": 144,
   "id": "fe76c1cb",
   "metadata": {},
   "outputs": [],
   "source": []
  },
  {
   "cell_type": "code",
   "execution_count": null,
   "id": "3eed1338",
   "metadata": {},
   "outputs": [],
   "source": [
    "안녕~"
   ]
  }
 ],
 "metadata": {
  "kernelspec": {
   "display_name": "Python 3 (ipykernel)",
   "language": "python",
   "name": "python3"
  },
  "language_info": {
   "codemirror_mode": {
    "name": "ipython",
    "version": 3
   },
   "file_extension": ".py",
   "mimetype": "text/x-python",
   "name": "python",
   "nbconvert_exporter": "python",
   "pygments_lexer": "ipython3",
   "version": "3.10.11"
  }
 },
 "nbformat": 4,
 "nbformat_minor": 5
}
