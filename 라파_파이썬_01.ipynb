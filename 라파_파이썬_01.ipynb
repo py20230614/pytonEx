{
  "nbformat": 4,
  "nbformat_minor": 0,
  "metadata": {
    "colab": {
      "provenance": []
    },
    "kernelspec": {
      "name": "python3",
      "display_name": "Python 3"
    },
    "language_info": {
      "name": "python"
    }
  },
  "cells": [
    {
      "cell_type": "code",
      "execution_count": null,
      "metadata": {
        "id": "ELiVxaxDjKDP"
      },
      "outputs": [],
      "source": [
        "반1 = 100\n",
        "b = \"홍길동\""
      ]
    },
    {
      "cell_type": "code",
      "source": [
        "print(b)"
      ],
      "metadata": {
        "colab": {
          "base_uri": "https://localhost:8080/"
        },
        "id": "LCADvi0RlLyw",
        "outputId": "e9544169-a633-4f6b-b954-96a6bea3ceb5"
      },
      "execution_count": null,
      "outputs": [
        {
          "output_type": "stream",
          "name": "stdout",
          "text": [
            "홍길동\n"
          ]
        }
      ]
    },
    {
      "cell_type": "code",
      "source": [
        "pi = 3.14"
      ],
      "metadata": {
        "id": "ARrBIZP44oD0"
      },
      "execution_count": null,
      "outputs": []
    },
    {
      "cell_type": "code",
      "source": [
        "a = 100\n",
        "b = 200\n",
        "c = a + b"
      ],
      "metadata": {
        "id": "bCBUp5G66rPX"
      },
      "execution_count": null,
      "outputs": []
    },
    {
      "cell_type": "code",
      "source": [
        "print(c)"
      ],
      "metadata": {
        "colab": {
          "base_uri": "https://localhost:8080/"
        },
        "id": "eYcggQMd8BRj",
        "outputId": "9b28ed9f-7198-4ef0-e108-7e3f44baab63"
      },
      "execution_count": null,
      "outputs": [
        {
          "output_type": "stream",
          "name": "stdout",
          "text": [
            "300\n"
          ]
        }
      ]
    },
    {
      "cell_type": "code",
      "source": [
        "print(a / b)  # 100 / 200\n",
        "print(a // b) # 몫\n",
        "print(a % b) # 나머지"
      ],
      "metadata": {
        "colab": {
          "base_uri": "https://localhost:8080/"
        },
        "id": "O8EQWHOB8D_T",
        "outputId": "ba98725e-cced-408d-c1bc-9dec2ff7af86"
      },
      "execution_count": null,
      "outputs": [
        {
          "output_type": "stream",
          "name": "stdout",
          "text": [
            "0.5\n",
            "0\n",
            "100\n"
          ]
        }
      ]
    },
    {
      "cell_type": "code",
      "source": [
        "a = 100\n",
        "b = \"a\"\n",
        "print(a)\n",
        "print(b)"
      ],
      "metadata": {
        "colab": {
          "base_uri": "https://localhost:8080/"
        },
        "id": "piEB3vDm8qHK",
        "outputId": "ccca5b5f-e5da-46db-ac07-2fc785e64932"
      },
      "execution_count": null,
      "outputs": [
        {
          "output_type": "stream",
          "name": "stdout",
          "text": [
            "100\n",
            "a\n"
          ]
        }
      ]
    },
    {
      "cell_type": "code",
      "source": [
        "# 문자열 + 문자열 -> 문자열\n",
        "# 숫자 + 숫자 -> 숫자\n",
        "# 문자열 + 숫자 -> 오류\n",
        "# 문자열 + str(숫자) -> str(숫자) -> 숫자를 문자로 변환\n",
        "b = '박길동'\n",
        "print( '내이름은 ' + b )\n",
        "age = 30\n",
        "print('나이는 ' + str(age))\n",
        "# 자동 치환 기능\n",
        "print( \"이름은 %s, 나이는 %s\" % (b, age) )"
      ],
      "metadata": {
        "colab": {
          "base_uri": "https://localhost:8080/"
        },
        "id": "1gpTwkP--wAk",
        "outputId": "339fd2dc-26e6-4bb2-d503-7ed73db600be"
      },
      "execution_count": null,
      "outputs": [
        {
          "output_type": "stream",
          "name": "stdout",
          "text": [
            "내이름은 박길동\n",
            "나이는 30\n",
            "이름은 박길동, 나이는 30\n"
          ]
        }
      ]
    },
    {
      "cell_type": "code",
      "source": [
        "이름 = \"홍길동\"\n",
        "전화 = \"010-111\"\n",
        "회사명 = \"(주)날아라\"\n",
        "print( \"제이름은 %s입니다. 연락처는 %s. 회사는 %s 입니다.\"%(이름,전화,회사명) )\n",
        "\n",
        "# \"제이름은 홍길동입니다. 연락처는 010-111. 회사는 (주)날아라 입니다.\"\n"
      ],
      "metadata": {
        "colab": {
          "base_uri": "https://localhost:8080/"
        },
        "id": "S5qeBKkLCH70",
        "outputId": "f386d99f-3ce2-4957-9bf0-906c7954a921"
      },
      "execution_count": null,
      "outputs": [
        {
          "output_type": "stream",
          "name": "stdout",
          "text": [
            "제이름은 홍길동입니다. 연락처는 010-111. 회사는 (주)날아라 입니다.\n"
          ]
        }
      ]
    },
    {
      "cell_type": "code",
      "source": [
        "b = \"홍길동100\"\n",
        "print( len(b) ) #b의 길이\n",
        "print( b.isalnum() )"
      ],
      "metadata": {
        "colab": {
          "base_uri": "https://localhost:8080/"
        },
        "id": "omiZL_b8JdOj",
        "outputId": "45a3e2a1-91ca-495b-c15f-34dce5034c12"
      },
      "execution_count": null,
      "outputs": [
        {
          "output_type": "stream",
          "name": "stdout",
          "text": [
            "6\n",
            "True\n"
          ]
        }
      ]
    },
    {
      "cell_type": "code",
      "source": [
        "email = \"abc@abc.com\"\n",
        "print( email.index(\"@\") ) #찾으려는 글자의시작번호 반환. 없으면 오류. 0부터시작\n",
        "print( email.find(\"x\") ) #없으면 -1 반환\n"
      ],
      "metadata": {
        "colab": {
          "base_uri": "https://localhost:8080/"
        },
        "id": "OY7rleraKTZ9",
        "outputId": "8a0d2b5c-a42f-40c3-f14c-ebc74721a1c9"
      },
      "execution_count": null,
      "outputs": [
        {
          "output_type": "stream",
          "name": "stdout",
          "text": [
            "3\n",
            "-1\n"
          ]
        }
      ]
    },
    {
      "cell_type": "code",
      "source": [
        "d = \"10:20:30\"\n",
        "d.split(\":\")"
      ],
      "metadata": {
        "colab": {
          "base_uri": "https://localhost:8080/"
        },
        "id": "gZgMcE8dL6a9",
        "outputId": "1fba840d-228b-4468-8f76-0a5cda6be91c"
      },
      "execution_count": null,
      "outputs": [
        {
          "output_type": "execute_result",
          "data": {
            "text/plain": [
              "['10', '20', '30']"
            ]
          },
          "metadata": {},
          "execution_count": 55
        }
      ]
    },
    {
      "cell_type": "code",
      "source": [
        "# 리스트 : 값을 순서대로 묶은것\n",
        "회원리스트 = [ \"홍\" ,\"김\", \"박\", ]\n",
        "회비리스트 = [ 100, 200, 300 ]\n",
        "print(회원리스트)"
      ],
      "metadata": {
        "colab": {
          "base_uri": "https://localhost:8080/"
        },
        "id": "yMvExRzANkl4",
        "outputId": "ee189152-792e-4e88-f218-44d0e08fd4e5"
      },
      "execution_count": null,
      "outputs": [
        {
          "output_type": "stream",
          "name": "stdout",
          "text": [
            "['홍', '김', '박']\n"
          ]
        }
      ]
    },
    {
      "cell_type": "code",
      "source": [],
      "metadata": {
        "id": "AenmYJ7oRdQ7"
      },
      "execution_count": null,
      "outputs": []
    },
    {
      "cell_type": "code",
      "source": [
        "# 순번으로 추출, 0부터\n",
        "회원리스트[ 2 ]\n",
        "# 저장갯수\n",
        "len(회비리스트)"
      ],
      "metadata": {
        "colab": {
          "base_uri": "https://localhost:8080/"
        },
        "id": "SzjotTDnOf6h",
        "outputId": "acdb4f13-4397-4a4d-a5b2-1f8c9d47661d"
      },
      "execution_count": null,
      "outputs": [
        {
          "output_type": "execute_result",
          "data": {
            "text/plain": [
              "3"
            ]
          },
          "metadata": {},
          "execution_count": 73
        }
      ]
    },
    {
      "cell_type": "code",
      "source": [
        "# 사전(Dictionary)\n",
        "회비납부이력 = { \"홍\":100 } # 키:값 / 사물함번호:사물함에저장된물건\n",
        "회비납부이력 = { \"홍\":100, \"김\":200, \"박\":300 }\n",
        "print( 회비납부이력[\"박\"] )"
      ],
      "metadata": {
        "colab": {
          "base_uri": "https://localhost:8080/"
        },
        "id": "6zypuNhIPRne",
        "outputId": "10ae078c-986f-4ba1-e366-1a0192ce4b5f"
      },
      "execution_count": null,
      "outputs": [
        {
          "output_type": "stream",
          "name": "stdout",
          "text": [
            "300\n"
          ]
        }
      ]
    },
    {
      "cell_type": "code",
      "source": [
        "회비납부이력[\"박\"] = 400\n",
        "print( 회비납부이력[\"박\"] )\n",
        "print( 회비납부이력 )"
      ],
      "metadata": {
        "colab": {
          "base_uri": "https://localhost:8080/"
        },
        "id": "mMZJZ-JBQh-M",
        "outputId": "011ffdb8-3196-468c-fd15-620e1683f542"
      },
      "execution_count": null,
      "outputs": [
        {
          "output_type": "stream",
          "name": "stdout",
          "text": [
            "400\n",
            "{'홍': 100, '김': 200, '박': 400}\n"
          ]
        }
      ]
    },
    {
      "cell_type": "code",
      "source": [
        "lotto_list = [] #빈 리스트\n",
        "lotto_set = set() #빈 셋"
      ],
      "metadata": {
        "id": "ta3_1lPVRecg"
      },
      "execution_count": null,
      "outputs": []
    },
    {
      "cell_type": "code",
      "source": [
        "#로또번호생성: 난수생성기\n",
        "import random\n",
        "random.seed(100)"
      ],
      "metadata": {
        "id": "TpCq2tl4T7qz"
      },
      "execution_count": null,
      "outputs": []
    },
    {
      "cell_type": "code",
      "source": [
        "r = random.randint(1,45)\n",
        "lotto_list.append(r)\n",
        "lotto_set.add(r)\n",
        "print(lotto_list)\n",
        "print(lotto_set)"
      ],
      "metadata": {
        "colab": {
          "base_uri": "https://localhost:8080/"
        },
        "id": "e9I9anlYdSzx",
        "outputId": "77389695-73e7-408c-9bab-2b678f0eda1d"
      },
      "execution_count": null,
      "outputs": [
        {
          "output_type": "stream",
          "name": "stdout",
          "text": [
            "[10, 30, 30, 12, 26, 23, 28, 33, 8]\n",
            "{33, 8, 10, 12, 23, 26, 28, 30}\n"
          ]
        }
      ]
    },
    {
      "cell_type": "code",
      "source": [
        "number_list = [100,200,300,400]\n",
        "number_list.pop(2) # 300삭제 - 순번으로 삭제\n",
        "print(number_list)"
      ],
      "metadata": {
        "colab": {
          "base_uri": "https://localhost:8080/"
        },
        "id": "yfSSIIxieBW0",
        "outputId": "389f289e-2e65-4cf7-f660-129edc6d6763"
      },
      "execution_count": null,
      "outputs": [
        {
          "output_type": "stream",
          "name": "stdout",
          "text": [
            "[100, 200, 400]\n"
          ]
        }
      ]
    },
    {
      "cell_type": "code",
      "source": [
        "number_list.remove( 200 )#200 삭제 - 지우려는 값 설정\n",
        "print(number_list)"
      ],
      "metadata": {
        "colab": {
          "base_uri": "https://localhost:8080/"
        },
        "id": "IG0x6pdneWZ7",
        "outputId": "c99ae61c-3837-4ceb-bca1-aa1d2f6bfb32"
      },
      "execution_count": null,
      "outputs": [
        {
          "output_type": "stream",
          "name": "stdout",
          "text": [
            "[100, 400]\n"
          ]
        }
      ]
    },
    {
      "cell_type": "code",
      "source": [
        "#사전삭제\n",
        "price_dict = {\"apple\":100, \"banana\":200, }\n",
        "price_dict.pop(\"apple\")\n",
        "print(price_dict)"
      ],
      "metadata": {
        "colab": {
          "base_uri": "https://localhost:8080/"
        },
        "id": "MPlfwFive7wq",
        "outputId": "aef5cfa4-43b7-45d0-f0fb-458c929cfbbc"
      },
      "execution_count": null,
      "outputs": [
        {
          "output_type": "stream",
          "name": "stdout",
          "text": [
            "{'banana': 200}\n"
          ]
        }
      ]
    },
    {
      "cell_type": "code",
      "source": [
        "# if\n",
        "gender = input(\"성별은? MALE, FEMALE\")\n",
        "if gender == \"MALE\" :\n",
        "  print(\"남성입니다\")\n",
        "else:\n",
        "  print(\"여성입니다\")\n"
      ],
      "metadata": {
        "colab": {
          "base_uri": "https://localhost:8080/"
        },
        "id": "6DRJBcbUf8g5",
        "outputId": "6d482f83-c566-424f-f413-8331c25f9f47"
      },
      "execution_count": null,
      "outputs": [
        {
          "output_type": "stream",
          "name": "stdout",
          "text": [
            "성별은? MALE, FEMALEMALE\n",
            "남성입니다\n"
          ]
        }
      ]
    },
    {
      "cell_type": "code",
      "source": [
        "# 숫자맞추기게임\n",
        "# 컴퓨터는 1~100 난수를 정하고 사용자는 임의의숫자입력,\n",
        "# 난수보다 낮은 숫자를 입력하면 \"높여주세요\",\n",
        "# 난수보다 높은 숫자를 입력하면 \"낮춰주세요\"\n",
        "# 맞추면 \"정답입니다\" 메시지 출력\n",
        "import random\n",
        "com_num = random.randint(1, 100)"
      ],
      "metadata": {
        "id": "dSo6R9cQguLm"
      },
      "execution_count": null,
      "outputs": []
    },
    {
      "cell_type": "code",
      "source": [
        "user_num = input(\"1~100사이 숫자를 입력~ \")\n",
        "user_num = int(user_num)\n",
        "if user_num == com_num:\n",
        "  print(\"정답입니다~\")\n",
        "  print(\"정답입니다~\")\n",
        "elif user_num < com_num:\n",
        "  print(\"높여주세요\")\n",
        "  print(\"높여주세요\")\n",
        "else:\n",
        "  print(\"낮춰주세요\")\n",
        "  print(\"낮춰주세요\")"
      ],
      "metadata": {
        "colab": {
          "base_uri": "https://localhost:8080/"
        },
        "id": "-YnLPPFHhbCa",
        "outputId": "99a7fa09-6ce8-47f3-ee69-ab19e5dbcc44"
      },
      "execution_count": null,
      "outputs": [
        {
          "output_type": "stream",
          "name": "stdout",
          "text": [
            "1~100사이 숫자를 입력~ 69\n",
            "정답입니다~\n"
          ]
        }
      ]
    },
    {
      "cell_type": "code",
      "source": [
        "a = \"박\"\n",
        "c = 100 if a == \"홍\" else 200 if a == \"김\" else 300\n",
        "print(c)"
      ],
      "metadata": {
        "colab": {
          "base_uri": "https://localhost:8080/"
        },
        "id": "jIJqsYMVhtzt",
        "outputId": "354b910d-3dc2-4e93-88d2-709397289e89"
      },
      "execution_count": null,
      "outputs": [
        {
          "output_type": "stream",
          "name": "stdout",
          "text": [
            "300\n"
          ]
        }
      ]
    },
    {
      "cell_type": "code",
      "source": [
        "# 숫자맞추기게임\n",
        "# 컴퓨터는 1~100 난수를 정하고 사용자는 임의의숫자입력,\n",
        "# 난수보다 낮은 숫자를 입력하면 \"높여주세요\",\n",
        "# 난수보다 높은 숫자를 입력하면 \"낮춰주세요\"\n",
        "# 맞추면 \"정답입니다\" 메시지 출력\n",
        "import random\n",
        "com_num = random.randint(1, 100)\n",
        "user_num = -1 #사용자숫자 초기화\n",
        "\n",
        "while com_num != user_num : #난수와 유저입력숫자가 다른경우 맞출때까지 반복\n",
        "  user_num = input(\"1~100사이 숫자를 입력~ \")\n",
        "  user_num = int(user_num)\n",
        "  if user_num == com_num:\n",
        "    print(\"정답입니다~\")\n",
        "    print(\"정답입니다~\")\n",
        "  elif user_num < com_num:\n",
        "    print(\"높여주세요\")\n",
        "    print(\"높여주세요\")\n",
        "  else:\n",
        "    print(\"낮춰주세요\")\n",
        "    print(\"낮춰주세요\")\n",
        "print(\"게임종료\") #while문 종료후 실행"
      ],
      "metadata": {
        "colab": {
          "base_uri": "https://localhost:8080/"
        },
        "id": "9a5W_GMTpKiN",
        "outputId": "b7364f68-63f7-4a3f-dc50-d606910691b9"
      },
      "execution_count": null,
      "outputs": [
        {
          "output_type": "stream",
          "name": "stdout",
          "text": [
            "1~100사이 숫자를 입력~ 50\n",
            "낮춰주세요\n",
            "낮춰주세요\n",
            "1~100사이 숫자를 입력~ 30\n",
            "낮춰주세요\n",
            "낮춰주세요\n",
            "1~100사이 숫자를 입력~ 20\n",
            "낮춰주세요\n",
            "낮춰주세요\n",
            "1~100사이 숫자를 입력~ 5\n",
            "높여주세요\n",
            "높여주세요\n",
            "1~100사이 숫자를 입력~ 13\n",
            "낮춰주세요\n",
            "낮춰주세요\n",
            "1~100사이 숫자를 입력~ 9\n",
            "높여주세요\n",
            "높여주세요\n",
            "1~100사이 숫자를 입력~ 11\n",
            "정답입니다~\n",
            "정답입니다~\n",
            "게임종료\n"
          ]
        }
      ]
    },
    {
      "cell_type": "code",
      "source": [
        "# while문으로 숫자 증가\n",
        "count = 1\n",
        "while count <= 5:\n",
        "  print(count)\n",
        "  count = count + 1"
      ],
      "metadata": {
        "colab": {
          "base_uri": "https://localhost:8080/"
        },
        "id": "FB8TSSwdq_5s",
        "outputId": "8792781a-879b-4f41-86d0-26f46a9ce929"
      },
      "execution_count": null,
      "outputs": [
        {
          "output_type": "stream",
          "name": "stdout",
          "text": [
            "1\n",
            "2\n",
            "3\n",
            "4\n",
            "5\n"
          ]
        }
      ]
    },
    {
      "cell_type": "code",
      "source": [
        "# 1~100사이 짝수의 합\n",
        "count = 1\n",
        "total = 0 #누적\n",
        "while count <= 100: # 1~100까지 반복\n",
        "  if count %2 == 0: # count가 짝수이면\n",
        "    total = total + count # 짝수 누적\n",
        "  count += 1\n",
        "\n",
        "print(\"total = %s\" % (total))"
      ],
      "metadata": {
        "colab": {
          "base_uri": "https://localhost:8080/"
        },
        "id": "-tQW_6ayuG_Z",
        "outputId": "446840a6-7f48-4076-a20b-9998b9ba5ade"
      },
      "execution_count": null,
      "outputs": [
        {
          "output_type": "stream",
          "name": "stdout",
          "text": [
            "total = 2550\n"
          ]
        }
      ]
    }
  ]
}